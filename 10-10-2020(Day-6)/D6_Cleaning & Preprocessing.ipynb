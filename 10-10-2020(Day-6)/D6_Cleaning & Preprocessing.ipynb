{
 "cells": [
  {
   "cell_type": "markdown",
   "metadata": {},
   "source": [
    "# Cleaning data in Python \n",
    "\n",
    "\n",
    "* NaN : not a number -- special floating-point value\n",
    "* Working with duplicates and missing values\n",
    "    * isnull()\n",
    "    * notnull()\n",
    "    * dropna()\n",
    "    * fillna()\n",
    "    * replace()\n",
    "* Which values should be replaced with missing values based on data identifying and eliminating outliers\n",
    "\n",
    "* Dropping duplicate data\n",
    "\n",
    "\n",
    "\n",
    "#### Identifying and Eliminating Outliers\n",
    "* Outliers are observations that are significantly different from other data points\n",
    "* Outliers can adversely affect the training process of a machine learning algorithm, resulting in a loss of accuracy.\n",
    "* Need to use the mathematical formula and retrieve the outlier data.\n",
    "\n",
    "     **interquartile range(IQR) = Q3(quantile(0.75)) − Q1(quantile(0.25))**\n",
    "     ![boxplot](box.png)"
   ]
  },
  {
   "cell_type": "code",
   "execution_count": 1,
   "metadata": {
    "collapsed": true
   },
   "outputs": [
    {
     "data": {
      "text/html": [
       "<div>\n",
       "<style scoped>\n",
       "    .dataframe tbody tr th:only-of-type {\n",
       "        vertical-align: middle;\n",
       "    }\n",
       "\n",
       "    .dataframe tbody tr th {\n",
       "        vertical-align: top;\n",
       "    }\n",
       "\n",
       "    .dataframe thead th {\n",
       "        text-align: right;\n",
       "    }\n",
       "</style>\n",
       "<table border=\"1\" class=\"dataframe\">\n",
       "  <thead>\n",
       "    <tr style=\"text-align: right;\">\n",
       "      <th></th>\n",
       "      <th>First Name</th>\n",
       "      <th>Gender</th>\n",
       "      <th>Start Date</th>\n",
       "      <th>Last Login Time</th>\n",
       "      <th>Salary</th>\n",
       "      <th>Bonus %</th>\n",
       "      <th>Senior Management</th>\n",
       "      <th>Team</th>\n",
       "    </tr>\n",
       "  </thead>\n",
       "  <tbody>\n",
       "    <tr>\n",
       "      <th>0</th>\n",
       "      <td>Douglas</td>\n",
       "      <td>Male</td>\n",
       "      <td>8/6/1993</td>\n",
       "      <td>12:42 PM</td>\n",
       "      <td>97308</td>\n",
       "      <td>6.945</td>\n",
       "      <td>True</td>\n",
       "      <td>Marketing</td>\n",
       "    </tr>\n",
       "    <tr>\n",
       "      <th>1</th>\n",
       "      <td>Thomas</td>\n",
       "      <td>Male</td>\n",
       "      <td>3/31/1996</td>\n",
       "      <td>6:53 AM</td>\n",
       "      <td>61933</td>\n",
       "      <td>4.170</td>\n",
       "      <td>True</td>\n",
       "      <td>NaN</td>\n",
       "    </tr>\n",
       "    <tr>\n",
       "      <th>2</th>\n",
       "      <td>Maria</td>\n",
       "      <td>Female</td>\n",
       "      <td>4/23/1993</td>\n",
       "      <td>11:17 AM</td>\n",
       "      <td>130590</td>\n",
       "      <td>11.858</td>\n",
       "      <td>False</td>\n",
       "      <td>Finance</td>\n",
       "    </tr>\n",
       "    <tr>\n",
       "      <th>3</th>\n",
       "      <td>Jerry</td>\n",
       "      <td>Male</td>\n",
       "      <td>3/4/2005</td>\n",
       "      <td>1:00 PM</td>\n",
       "      <td>138705</td>\n",
       "      <td>9.340</td>\n",
       "      <td>True</td>\n",
       "      <td>Finance</td>\n",
       "    </tr>\n",
       "    <tr>\n",
       "      <th>4</th>\n",
       "      <td>Larry</td>\n",
       "      <td>Male</td>\n",
       "      <td>1/24/1998</td>\n",
       "      <td>4:47 PM</td>\n",
       "      <td>101004</td>\n",
       "      <td>1.389</td>\n",
       "      <td>True</td>\n",
       "      <td>Client Services</td>\n",
       "    </tr>\n",
       "  </tbody>\n",
       "</table>\n",
       "</div>"
      ],
      "text/plain": [
       "  First Name  Gender Start Date Last Login Time  Salary  Bonus %  \\\n",
       "0    Douglas    Male   8/6/1993        12:42 PM   97308    6.945   \n",
       "1     Thomas    Male  3/31/1996         6:53 AM   61933    4.170   \n",
       "2      Maria  Female  4/23/1993        11:17 AM  130590   11.858   \n",
       "3      Jerry    Male   3/4/2005         1:00 PM  138705    9.340   \n",
       "4      Larry    Male  1/24/1998         4:47 PM  101004    1.389   \n",
       "\n",
       "  Senior Management             Team  \n",
       "0              True        Marketing  \n",
       "1              True              NaN  \n",
       "2             False          Finance  \n",
       "3              True          Finance  \n",
       "4              True  Client Services  "
      ]
     },
     "execution_count": 1,
     "metadata": {},
     "output_type": "execute_result"
    }
   ],
   "source": [
    "import pandas as pd\n",
    "emp = pd.read_csv(\"https://raw.githubusercontent.com/APSSDC-Data-Analysis/DataAnalysisBatch-6/main/08-10-2020(Day-4)/Datasets/employe.csv\")\n",
    "emp.head()"
   ]
  },
  {
   "cell_type": "code",
   "execution_count": 2,
   "metadata": {},
   "outputs": [
    {
     "data": {
      "text/plain": [
       "(1000, 8)"
      ]
     },
     "execution_count": 2,
     "metadata": {},
     "output_type": "execute_result"
    }
   ],
   "source": [
    "emp.shape"
   ]
  },
  {
   "cell_type": "code",
   "execution_count": 4,
   "metadata": {
    "collapsed": true
   },
   "outputs": [
    {
     "data": {
      "text/plain": [
       "First Name            67\n",
       "Gender               145\n",
       "Start Date             0\n",
       "Last Login Time        0\n",
       "Salary                 0\n",
       "Bonus %                0\n",
       "Senior Management     67\n",
       "Team                  43\n",
       "dtype: int64"
      ]
     },
     "execution_count": 4,
     "metadata": {},
     "output_type": "execute_result"
    }
   ],
   "source": [
    "emp.isnull().sum()"
   ]
  },
  {
   "cell_type": "code",
   "execution_count": 5,
   "metadata": {
    "collapsed": true
   },
   "outputs": [
    {
     "data": {
      "text/plain": [
       "First Name            933\n",
       "Gender                855\n",
       "Start Date           1000\n",
       "Last Login Time      1000\n",
       "Salary               1000\n",
       "Bonus %              1000\n",
       "Senior Management     933\n",
       "Team                  957\n",
       "dtype: int64"
      ]
     },
     "execution_count": 5,
     "metadata": {},
     "output_type": "execute_result"
    }
   ],
   "source": [
    "emp.notnull().sum()"
   ]
  },
  {
   "cell_type": "markdown",
   "metadata": {},
   "source": [
    "## Droping"
   ]
  },
  {
   "cell_type": "code",
   "execution_count": 6,
   "metadata": {
    "collapsed": true
   },
   "outputs": [
    {
     "data": {
      "text/html": [
       "<div>\n",
       "<style scoped>\n",
       "    .dataframe tbody tr th:only-of-type {\n",
       "        vertical-align: middle;\n",
       "    }\n",
       "\n",
       "    .dataframe tbody tr th {\n",
       "        vertical-align: top;\n",
       "    }\n",
       "\n",
       "    .dataframe thead th {\n",
       "        text-align: right;\n",
       "    }\n",
       "</style>\n",
       "<table border=\"1\" class=\"dataframe\">\n",
       "  <thead>\n",
       "    <tr style=\"text-align: right;\">\n",
       "      <th></th>\n",
       "      <th>First Name</th>\n",
       "      <th>Gender</th>\n",
       "      <th>Start Date</th>\n",
       "      <th>Last Login Time</th>\n",
       "      <th>Salary</th>\n",
       "      <th>Bonus %</th>\n",
       "      <th>Senior Management</th>\n",
       "      <th>Team</th>\n",
       "    </tr>\n",
       "  </thead>\n",
       "  <tbody>\n",
       "    <tr>\n",
       "      <th>0</th>\n",
       "      <td>Douglas</td>\n",
       "      <td>Male</td>\n",
       "      <td>8/6/1993</td>\n",
       "      <td>12:42 PM</td>\n",
       "      <td>97308</td>\n",
       "      <td>6.945</td>\n",
       "      <td>True</td>\n",
       "      <td>Marketing</td>\n",
       "    </tr>\n",
       "    <tr>\n",
       "      <th>2</th>\n",
       "      <td>Maria</td>\n",
       "      <td>Female</td>\n",
       "      <td>4/23/1993</td>\n",
       "      <td>11:17 AM</td>\n",
       "      <td>130590</td>\n",
       "      <td>11.858</td>\n",
       "      <td>False</td>\n",
       "      <td>Finance</td>\n",
       "    </tr>\n",
       "    <tr>\n",
       "      <th>3</th>\n",
       "      <td>Jerry</td>\n",
       "      <td>Male</td>\n",
       "      <td>3/4/2005</td>\n",
       "      <td>1:00 PM</td>\n",
       "      <td>138705</td>\n",
       "      <td>9.340</td>\n",
       "      <td>True</td>\n",
       "      <td>Finance</td>\n",
       "    </tr>\n",
       "    <tr>\n",
       "      <th>4</th>\n",
       "      <td>Larry</td>\n",
       "      <td>Male</td>\n",
       "      <td>1/24/1998</td>\n",
       "      <td>4:47 PM</td>\n",
       "      <td>101004</td>\n",
       "      <td>1.389</td>\n",
       "      <td>True</td>\n",
       "      <td>Client Services</td>\n",
       "    </tr>\n",
       "    <tr>\n",
       "      <th>5</th>\n",
       "      <td>Dennis</td>\n",
       "      <td>Male</td>\n",
       "      <td>4/18/1987</td>\n",
       "      <td>1:35 AM</td>\n",
       "      <td>115163</td>\n",
       "      <td>10.125</td>\n",
       "      <td>False</td>\n",
       "      <td>Legal</td>\n",
       "    </tr>\n",
       "    <tr>\n",
       "      <th>...</th>\n",
       "      <td>...</td>\n",
       "      <td>...</td>\n",
       "      <td>...</td>\n",
       "      <td>...</td>\n",
       "      <td>...</td>\n",
       "      <td>...</td>\n",
       "      <td>...</td>\n",
       "      <td>...</td>\n",
       "    </tr>\n",
       "    <tr>\n",
       "      <th>994</th>\n",
       "      <td>George</td>\n",
       "      <td>Male</td>\n",
       "      <td>6/21/2013</td>\n",
       "      <td>5:47 PM</td>\n",
       "      <td>98874</td>\n",
       "      <td>4.479</td>\n",
       "      <td>True</td>\n",
       "      <td>Marketing</td>\n",
       "    </tr>\n",
       "    <tr>\n",
       "      <th>996</th>\n",
       "      <td>Phillip</td>\n",
       "      <td>Male</td>\n",
       "      <td>1/31/1984</td>\n",
       "      <td>6:30 AM</td>\n",
       "      <td>42392</td>\n",
       "      <td>19.675</td>\n",
       "      <td>False</td>\n",
       "      <td>Finance</td>\n",
       "    </tr>\n",
       "    <tr>\n",
       "      <th>997</th>\n",
       "      <td>Russell</td>\n",
       "      <td>Male</td>\n",
       "      <td>5/20/2013</td>\n",
       "      <td>12:39 PM</td>\n",
       "      <td>96914</td>\n",
       "      <td>1.421</td>\n",
       "      <td>False</td>\n",
       "      <td>Product</td>\n",
       "    </tr>\n",
       "    <tr>\n",
       "      <th>998</th>\n",
       "      <td>Larry</td>\n",
       "      <td>Male</td>\n",
       "      <td>4/20/2013</td>\n",
       "      <td>4:45 PM</td>\n",
       "      <td>60500</td>\n",
       "      <td>11.985</td>\n",
       "      <td>False</td>\n",
       "      <td>Business Development</td>\n",
       "    </tr>\n",
       "    <tr>\n",
       "      <th>999</th>\n",
       "      <td>Albert</td>\n",
       "      <td>Male</td>\n",
       "      <td>5/15/2012</td>\n",
       "      <td>6:24 PM</td>\n",
       "      <td>129949</td>\n",
       "      <td>10.169</td>\n",
       "      <td>True</td>\n",
       "      <td>Sales</td>\n",
       "    </tr>\n",
       "  </tbody>\n",
       "</table>\n",
       "<p>764 rows × 8 columns</p>\n",
       "</div>"
      ],
      "text/plain": [
       "    First Name  Gender Start Date Last Login Time  Salary  Bonus %  \\\n",
       "0      Douglas    Male   8/6/1993        12:42 PM   97308    6.945   \n",
       "2        Maria  Female  4/23/1993        11:17 AM  130590   11.858   \n",
       "3        Jerry    Male   3/4/2005         1:00 PM  138705    9.340   \n",
       "4        Larry    Male  1/24/1998         4:47 PM  101004    1.389   \n",
       "5       Dennis    Male  4/18/1987         1:35 AM  115163   10.125   \n",
       "..         ...     ...        ...             ...     ...      ...   \n",
       "994     George    Male  6/21/2013         5:47 PM   98874    4.479   \n",
       "996    Phillip    Male  1/31/1984         6:30 AM   42392   19.675   \n",
       "997    Russell    Male  5/20/2013        12:39 PM   96914    1.421   \n",
       "998      Larry    Male  4/20/2013         4:45 PM   60500   11.985   \n",
       "999     Albert    Male  5/15/2012         6:24 PM  129949   10.169   \n",
       "\n",
       "    Senior Management                  Team  \n",
       "0                True             Marketing  \n",
       "2               False               Finance  \n",
       "3                True               Finance  \n",
       "4                True       Client Services  \n",
       "5               False                 Legal  \n",
       "..                ...                   ...  \n",
       "994              True             Marketing  \n",
       "996             False               Finance  \n",
       "997             False               Product  \n",
       "998             False  Business Development  \n",
       "999              True                 Sales  \n",
       "\n",
       "[764 rows x 8 columns]"
      ]
     },
     "execution_count": 6,
     "metadata": {},
     "output_type": "execute_result"
    }
   ],
   "source": [
    "emp.dropna()"
   ]
  },
  {
   "cell_type": "code",
   "execution_count": 7,
   "metadata": {},
   "outputs": [
    {
     "data": {
      "text/plain": [
       "(764, 8)"
      ]
     },
     "execution_count": 7,
     "metadata": {},
     "output_type": "execute_result"
    }
   ],
   "source": [
    "emp.dropna().shape"
   ]
  },
  {
   "cell_type": "code",
   "execution_count": 8,
   "metadata": {},
   "outputs": [
    {
     "data": {
      "text/plain": [
       "Index(['First Name', 'Gender', 'Start Date', 'Last Login Time', 'Salary',\n",
       "       'Bonus %', 'Senior Management', 'Team'],\n",
       "      dtype='object')"
      ]
     },
     "execution_count": 8,
     "metadata": {},
     "output_type": "execute_result"
    }
   ],
   "source": [
    "emp.columns"
   ]
  },
  {
   "cell_type": "code",
   "execution_count": 11,
   "metadata": {},
   "outputs": [
    {
     "data": {
      "text/plain": [
       "145"
      ]
     },
     "execution_count": 11,
     "metadata": {},
     "output_type": "execute_result"
    }
   ],
   "source": [
    "emp[\"Gender\"].isnull().sum()"
   ]
  },
  {
   "cell_type": "code",
   "execution_count": 13,
   "metadata": {
    "collapsed": true
   },
   "outputs": [
    {
     "data": {
      "text/plain": [
       "0      False\n",
       "1      False\n",
       "2      False\n",
       "3      False\n",
       "4      False\n",
       "       ...  \n",
       "995     True\n",
       "996    False\n",
       "997    False\n",
       "998    False\n",
       "999    False\n",
       "Name: Gender, Length: 1000, dtype: bool"
      ]
     },
     "execution_count": 13,
     "metadata": {},
     "output_type": "execute_result"
    }
   ],
   "source": [
    "pd.isnull(emp[\"Gender\"])"
   ]
  },
  {
   "cell_type": "markdown",
   "metadata": {},
   "source": [
    "## Filling missing values with meaningful data\n",
    "* Constant\n",
    "* Mode\n",
    "* mean\n",
    "* Median "
   ]
  },
  {
   "cell_type": "code",
   "execution_count": 15,
   "metadata": {
    "collapsed": true
   },
   "outputs": [
    {
     "data": {
      "text/plain": [
       "0           Male\n",
       "1           Male\n",
       "2         Female\n",
       "3           Male\n",
       "4           Male\n",
       "         ...    \n",
       "995    No Gender\n",
       "996         Male\n",
       "997         Male\n",
       "998         Male\n",
       "999         Male\n",
       "Name: Gender, Length: 1000, dtype: object"
      ]
     },
     "execution_count": 15,
     "metadata": {},
     "output_type": "execute_result"
    }
   ],
   "source": [
    "emp[\"Gender\"].fillna(\"No Gender\") # replacing constant value inplace of NAN"
   ]
  },
  {
   "cell_type": "code",
   "execution_count": 17,
   "metadata": {
    "collapsed": true
   },
   "outputs": [
    {
     "data": {
      "text/plain": [
       "0        Male\n",
       "1        Male\n",
       "2      Female\n",
       "3        Male\n",
       "4        Male\n",
       "        ...  \n",
       "995      Male\n",
       "996      Male\n",
       "997      Male\n",
       "998      Male\n",
       "999      Male\n",
       "Name: Gender, Length: 1000, dtype: object"
      ]
     },
     "execution_count": 17,
     "metadata": {},
     "output_type": "execute_result"
    }
   ],
   "source": [
    "emp[\"Gender\"].fillna(method = \"pad\")  # filling values with previous once"
   ]
  },
  {
   "cell_type": "code",
   "execution_count": 18,
   "metadata": {
    "collapsed": true
   },
   "outputs": [
    {
     "data": {
      "text/plain": [
       "0        Male\n",
       "1        Male\n",
       "2      Female\n",
       "3        Male\n",
       "4        Male\n",
       "        ...  \n",
       "995      Male\n",
       "996      Male\n",
       "997      Male\n",
       "998      Male\n",
       "999      Male\n",
       "Name: Gender, Length: 1000, dtype: object"
      ]
     },
     "execution_count": 18,
     "metadata": {},
     "output_type": "execute_result"
    }
   ],
   "source": [
    "emp[\"Gender\"].fillna(method = \"bfill\") # backword value "
   ]
  },
  {
   "cell_type": "code",
   "execution_count": 19,
   "metadata": {
    "collapsed": true
   },
   "outputs": [
    {
     "data": {
      "text/plain": [
       "0        Male\n",
       "1        Male\n",
       "2      Female\n",
       "3        Male\n",
       "4        Male\n",
       "        ...  \n",
       "995         0\n",
       "996      Male\n",
       "997      Male\n",
       "998      Male\n",
       "999      Male\n",
       "Name: Gender, Length: 1000, dtype: object"
      ]
     },
     "execution_count": 19,
     "metadata": {},
     "output_type": "execute_result"
    }
   ],
   "source": [
    "emp[\"Gender\"].fillna(0)"
   ]
  },
  {
   "cell_type": "code",
   "execution_count": 20,
   "metadata": {
    "collapsed": true
   },
   "outputs": [
    {
     "data": {
      "text/html": [
       "<div>\n",
       "<style scoped>\n",
       "    .dataframe tbody tr th:only-of-type {\n",
       "        vertical-align: middle;\n",
       "    }\n",
       "\n",
       "    .dataframe tbody tr th {\n",
       "        vertical-align: top;\n",
       "    }\n",
       "\n",
       "    .dataframe thead th {\n",
       "        text-align: right;\n",
       "    }\n",
       "</style>\n",
       "<table border=\"1\" class=\"dataframe\">\n",
       "  <thead>\n",
       "    <tr style=\"text-align: right;\">\n",
       "      <th></th>\n",
       "      <th>First Name</th>\n",
       "      <th>Gender</th>\n",
       "      <th>Start Date</th>\n",
       "      <th>Last Login Time</th>\n",
       "      <th>Salary</th>\n",
       "      <th>Bonus %</th>\n",
       "      <th>Senior Management</th>\n",
       "      <th>Team</th>\n",
       "    </tr>\n",
       "  </thead>\n",
       "  <tbody>\n",
       "    <tr>\n",
       "      <th>0</th>\n",
       "      <td>Douglas</td>\n",
       "      <td>0</td>\n",
       "      <td>8/6/1993</td>\n",
       "      <td>12:42 PM</td>\n",
       "      <td>97308</td>\n",
       "      <td>6.945</td>\n",
       "      <td>True</td>\n",
       "      <td>Marketing</td>\n",
       "    </tr>\n",
       "    <tr>\n",
       "      <th>1</th>\n",
       "      <td>Thomas</td>\n",
       "      <td>0</td>\n",
       "      <td>3/31/1996</td>\n",
       "      <td>6:53 AM</td>\n",
       "      <td>61933</td>\n",
       "      <td>4.170</td>\n",
       "      <td>True</td>\n",
       "      <td>NaN</td>\n",
       "    </tr>\n",
       "    <tr>\n",
       "      <th>2</th>\n",
       "      <td>Maria</td>\n",
       "      <td>Female</td>\n",
       "      <td>4/23/1993</td>\n",
       "      <td>11:17 AM</td>\n",
       "      <td>130590</td>\n",
       "      <td>11.858</td>\n",
       "      <td>False</td>\n",
       "      <td>Finance</td>\n",
       "    </tr>\n",
       "    <tr>\n",
       "      <th>3</th>\n",
       "      <td>Jerry</td>\n",
       "      <td>0</td>\n",
       "      <td>3/4/2005</td>\n",
       "      <td>1:00 PM</td>\n",
       "      <td>138705</td>\n",
       "      <td>9.340</td>\n",
       "      <td>True</td>\n",
       "      <td>Finance</td>\n",
       "    </tr>\n",
       "    <tr>\n",
       "      <th>4</th>\n",
       "      <td>Larry</td>\n",
       "      <td>0</td>\n",
       "      <td>1/24/1998</td>\n",
       "      <td>4:47 PM</td>\n",
       "      <td>101004</td>\n",
       "      <td>1.389</td>\n",
       "      <td>True</td>\n",
       "      <td>Client Services</td>\n",
       "    </tr>\n",
       "    <tr>\n",
       "      <th>...</th>\n",
       "      <td>...</td>\n",
       "      <td>...</td>\n",
       "      <td>...</td>\n",
       "      <td>...</td>\n",
       "      <td>...</td>\n",
       "      <td>...</td>\n",
       "      <td>...</td>\n",
       "      <td>...</td>\n",
       "    </tr>\n",
       "    <tr>\n",
       "      <th>995</th>\n",
       "      <td>Henry</td>\n",
       "      <td>NaN</td>\n",
       "      <td>11/23/2014</td>\n",
       "      <td>6:09 AM</td>\n",
       "      <td>132483</td>\n",
       "      <td>16.655</td>\n",
       "      <td>False</td>\n",
       "      <td>Distribution</td>\n",
       "    </tr>\n",
       "    <tr>\n",
       "      <th>996</th>\n",
       "      <td>Phillip</td>\n",
       "      <td>0</td>\n",
       "      <td>1/31/1984</td>\n",
       "      <td>6:30 AM</td>\n",
       "      <td>42392</td>\n",
       "      <td>19.675</td>\n",
       "      <td>False</td>\n",
       "      <td>Finance</td>\n",
       "    </tr>\n",
       "    <tr>\n",
       "      <th>997</th>\n",
       "      <td>Russell</td>\n",
       "      <td>0</td>\n",
       "      <td>5/20/2013</td>\n",
       "      <td>12:39 PM</td>\n",
       "      <td>96914</td>\n",
       "      <td>1.421</td>\n",
       "      <td>False</td>\n",
       "      <td>Product</td>\n",
       "    </tr>\n",
       "    <tr>\n",
       "      <th>998</th>\n",
       "      <td>Larry</td>\n",
       "      <td>0</td>\n",
       "      <td>4/20/2013</td>\n",
       "      <td>4:45 PM</td>\n",
       "      <td>60500</td>\n",
       "      <td>11.985</td>\n",
       "      <td>False</td>\n",
       "      <td>Business Development</td>\n",
       "    </tr>\n",
       "    <tr>\n",
       "      <th>999</th>\n",
       "      <td>Albert</td>\n",
       "      <td>0</td>\n",
       "      <td>5/15/2012</td>\n",
       "      <td>6:24 PM</td>\n",
       "      <td>129949</td>\n",
       "      <td>10.169</td>\n",
       "      <td>True</td>\n",
       "      <td>Sales</td>\n",
       "    </tr>\n",
       "  </tbody>\n",
       "</table>\n",
       "<p>1000 rows × 8 columns</p>\n",
       "</div>"
      ],
      "text/plain": [
       "    First Name  Gender  Start Date Last Login Time  Salary  Bonus %  \\\n",
       "0      Douglas       0    8/6/1993        12:42 PM   97308    6.945   \n",
       "1       Thomas       0   3/31/1996         6:53 AM   61933    4.170   \n",
       "2        Maria  Female   4/23/1993        11:17 AM  130590   11.858   \n",
       "3        Jerry       0    3/4/2005         1:00 PM  138705    9.340   \n",
       "4        Larry       0   1/24/1998         4:47 PM  101004    1.389   \n",
       "..         ...     ...         ...             ...     ...      ...   \n",
       "995      Henry     NaN  11/23/2014         6:09 AM  132483   16.655   \n",
       "996    Phillip       0   1/31/1984         6:30 AM   42392   19.675   \n",
       "997    Russell       0   5/20/2013        12:39 PM   96914    1.421   \n",
       "998      Larry       0   4/20/2013         4:45 PM   60500   11.985   \n",
       "999     Albert       0   5/15/2012         6:24 PM  129949   10.169   \n",
       "\n",
       "    Senior Management                  Team  \n",
       "0                True             Marketing  \n",
       "1                True                   NaN  \n",
       "2               False               Finance  \n",
       "3                True               Finance  \n",
       "4                True       Client Services  \n",
       "..                ...                   ...  \n",
       "995             False          Distribution  \n",
       "996             False               Finance  \n",
       "997             False               Product  \n",
       "998             False  Business Development  \n",
       "999              True                 Sales  \n",
       "\n",
       "[1000 rows x 8 columns]"
      ]
     },
     "execution_count": 20,
     "metadata": {},
     "output_type": "execute_result"
    }
   ],
   "source": [
    "emp.replace(to_replace = \"Male\", value = 0) # replace any value to the given value"
   ]
  },
  {
   "cell_type": "code",
   "execution_count": 21,
   "metadata": {
    "collapsed": true
   },
   "outputs": [
    {
     "data": {
      "text/html": [
       "<div>\n",
       "<style scoped>\n",
       "    .dataframe tbody tr th:only-of-type {\n",
       "        vertical-align: middle;\n",
       "    }\n",
       "\n",
       "    .dataframe tbody tr th {\n",
       "        vertical-align: top;\n",
       "    }\n",
       "\n",
       "    .dataframe thead th {\n",
       "        text-align: right;\n",
       "    }\n",
       "</style>\n",
       "<table border=\"1\" class=\"dataframe\">\n",
       "  <thead>\n",
       "    <tr style=\"text-align: right;\">\n",
       "      <th></th>\n",
       "      <th>First Name</th>\n",
       "      <th>Gender</th>\n",
       "      <th>Start Date</th>\n",
       "      <th>Last Login Time</th>\n",
       "      <th>Salary</th>\n",
       "      <th>Bonus %</th>\n",
       "      <th>Senior Management</th>\n",
       "      <th>Team</th>\n",
       "    </tr>\n",
       "  </thead>\n",
       "  <tbody>\n",
       "    <tr>\n",
       "      <th>0</th>\n",
       "      <td>Douglas</td>\n",
       "      <td>Male</td>\n",
       "      <td>8/6/1993</td>\n",
       "      <td>12:42 PM</td>\n",
       "      <td>97308</td>\n",
       "      <td>6.945</td>\n",
       "      <td>True</td>\n",
       "      <td>Marketing</td>\n",
       "    </tr>\n",
       "    <tr>\n",
       "      <th>1</th>\n",
       "      <td>Thomas</td>\n",
       "      <td>Male</td>\n",
       "      <td>3/31/1996</td>\n",
       "      <td>6:53 AM</td>\n",
       "      <td>61933</td>\n",
       "      <td>4.170</td>\n",
       "      <td>True</td>\n",
       "      <td>NaN</td>\n",
       "    </tr>\n",
       "    <tr>\n",
       "      <th>2</th>\n",
       "      <td>Maria</td>\n",
       "      <td>Female</td>\n",
       "      <td>4/23/1993</td>\n",
       "      <td>11:17 AM</td>\n",
       "      <td>130590</td>\n",
       "      <td>11.858</td>\n",
       "      <td>False</td>\n",
       "      <td>Finance</td>\n",
       "    </tr>\n",
       "    <tr>\n",
       "      <th>3</th>\n",
       "      <td>Jerry</td>\n",
       "      <td>Male</td>\n",
       "      <td>3/4/2005</td>\n",
       "      <td>1:00 PM</td>\n",
       "      <td>138705</td>\n",
       "      <td>9.340</td>\n",
       "      <td>True</td>\n",
       "      <td>Finance</td>\n",
       "    </tr>\n",
       "    <tr>\n",
       "      <th>4</th>\n",
       "      <td>Larry</td>\n",
       "      <td>Male</td>\n",
       "      <td>1/24/1998</td>\n",
       "      <td>4:47 PM</td>\n",
       "      <td>101004</td>\n",
       "      <td>1.389</td>\n",
       "      <td>True</td>\n",
       "      <td>Client Services</td>\n",
       "    </tr>\n",
       "    <tr>\n",
       "      <th>...</th>\n",
       "      <td>...</td>\n",
       "      <td>...</td>\n",
       "      <td>...</td>\n",
       "      <td>...</td>\n",
       "      <td>...</td>\n",
       "      <td>...</td>\n",
       "      <td>...</td>\n",
       "      <td>...</td>\n",
       "    </tr>\n",
       "    <tr>\n",
       "      <th>995</th>\n",
       "      <td>Henry</td>\n",
       "      <td>NaN</td>\n",
       "      <td>11/23/2014</td>\n",
       "      <td>6:09 AM</td>\n",
       "      <td>132483</td>\n",
       "      <td>16.655</td>\n",
       "      <td>False</td>\n",
       "      <td>Distribution</td>\n",
       "    </tr>\n",
       "    <tr>\n",
       "      <th>996</th>\n",
       "      <td>Phillip</td>\n",
       "      <td>Male</td>\n",
       "      <td>1/31/1984</td>\n",
       "      <td>6:30 AM</td>\n",
       "      <td>42392</td>\n",
       "      <td>19.675</td>\n",
       "      <td>False</td>\n",
       "      <td>Finance</td>\n",
       "    </tr>\n",
       "    <tr>\n",
       "      <th>997</th>\n",
       "      <td>Russell</td>\n",
       "      <td>Male</td>\n",
       "      <td>5/20/2013</td>\n",
       "      <td>12:39 PM</td>\n",
       "      <td>96914</td>\n",
       "      <td>1.421</td>\n",
       "      <td>False</td>\n",
       "      <td>Product</td>\n",
       "    </tr>\n",
       "    <tr>\n",
       "      <th>998</th>\n",
       "      <td>Larry</td>\n",
       "      <td>Male</td>\n",
       "      <td>4/20/2013</td>\n",
       "      <td>4:45 PM</td>\n",
       "      <td>60500</td>\n",
       "      <td>11.985</td>\n",
       "      <td>False</td>\n",
       "      <td>Business Development</td>\n",
       "    </tr>\n",
       "    <tr>\n",
       "      <th>999</th>\n",
       "      <td>Albert</td>\n",
       "      <td>Male</td>\n",
       "      <td>5/15/2012</td>\n",
       "      <td>6:24 PM</td>\n",
       "      <td>129949</td>\n",
       "      <td>10.169</td>\n",
       "      <td>True</td>\n",
       "      <td>Sales</td>\n",
       "    </tr>\n",
       "  </tbody>\n",
       "</table>\n",
       "<p>1000 rows × 8 columns</p>\n",
       "</div>"
      ],
      "text/plain": [
       "    First Name  Gender  Start Date Last Login Time  Salary  Bonus %  \\\n",
       "0      Douglas    Male    8/6/1993        12:42 PM   97308    6.945   \n",
       "1       Thomas    Male   3/31/1996         6:53 AM   61933    4.170   \n",
       "2        Maria  Female   4/23/1993        11:17 AM  130590   11.858   \n",
       "3        Jerry    Male    3/4/2005         1:00 PM  138705    9.340   \n",
       "4        Larry    Male   1/24/1998         4:47 PM  101004    1.389   \n",
       "..         ...     ...         ...             ...     ...      ...   \n",
       "995      Henry     NaN  11/23/2014         6:09 AM  132483   16.655   \n",
       "996    Phillip    Male   1/31/1984         6:30 AM   42392   19.675   \n",
       "997    Russell    Male   5/20/2013        12:39 PM   96914    1.421   \n",
       "998      Larry    Male   4/20/2013         4:45 PM   60500   11.985   \n",
       "999     Albert    Male   5/15/2012         6:24 PM  129949   10.169   \n",
       "\n",
       "    Senior Management                  Team  \n",
       "0                True             Marketing  \n",
       "1                True                   NaN  \n",
       "2               False               Finance  \n",
       "3                True               Finance  \n",
       "4                True       Client Services  \n",
       "..                ...                   ...  \n",
       "995             False          Distribution  \n",
       "996             False               Finance  \n",
       "997             False               Product  \n",
       "998             False  Business Development  \n",
       "999              True                 Sales  \n",
       "\n",
       "[1000 rows x 8 columns]"
      ]
     },
     "execution_count": 21,
     "metadata": {},
     "output_type": "execute_result"
    }
   ],
   "source": [
    "emp"
   ]
  },
  {
   "cell_type": "markdown",
   "metadata": {},
   "source": [
    "# Drop"
   ]
  },
  {
   "cell_type": "code",
   "execution_count": 23,
   "metadata": {},
   "outputs": [
    {
     "data": {
      "text/html": [
       "<div>\n",
       "<style scoped>\n",
       "    .dataframe tbody tr th:only-of-type {\n",
       "        vertical-align: middle;\n",
       "    }\n",
       "\n",
       "    .dataframe tbody tr th {\n",
       "        vertical-align: top;\n",
       "    }\n",
       "\n",
       "    .dataframe thead th {\n",
       "        text-align: right;\n",
       "    }\n",
       "</style>\n",
       "<table border=\"1\" class=\"dataframe\">\n",
       "  <thead>\n",
       "    <tr style=\"text-align: right;\">\n",
       "      <th></th>\n",
       "      <th>First</th>\n",
       "      <th>second</th>\n",
       "      <th>third</th>\n",
       "    </tr>\n",
       "  </thead>\n",
       "  <tbody>\n",
       "    <tr>\n",
       "      <th>0</th>\n",
       "      <td>100.0</td>\n",
       "      <td>90.0</td>\n",
       "      <td>23.0</td>\n",
       "    </tr>\n",
       "    <tr>\n",
       "      <th>1</th>\n",
       "      <td>NaN</td>\n",
       "      <td>89.0</td>\n",
       "      <td>46.0</td>\n",
       "    </tr>\n",
       "    <tr>\n",
       "      <th>2</th>\n",
       "      <td>67.0</td>\n",
       "      <td>NaN</td>\n",
       "      <td>67.0</td>\n",
       "    </tr>\n",
       "    <tr>\n",
       "      <th>3</th>\n",
       "      <td>87.0</td>\n",
       "      <td>78.0</td>\n",
       "      <td>789.0</td>\n",
       "    </tr>\n",
       "    <tr>\n",
       "      <th>4</th>\n",
       "      <td>69.0</td>\n",
       "      <td>78.0</td>\n",
       "      <td>9.0</td>\n",
       "    </tr>\n",
       "    <tr>\n",
       "      <th>5</th>\n",
       "      <td>4.0</td>\n",
       "      <td>56.0</td>\n",
       "      <td>NaN</td>\n",
       "    </tr>\n",
       "  </tbody>\n",
       "</table>\n",
       "</div>"
      ],
      "text/plain": [
       "   First  second  third\n",
       "0  100.0    90.0   23.0\n",
       "1    NaN    89.0   46.0\n",
       "2   67.0     NaN   67.0\n",
       "3   87.0    78.0  789.0\n",
       "4   69.0    78.0    9.0\n",
       "5    4.0    56.0    NaN"
      ]
     },
     "execution_count": 23,
     "metadata": {},
     "output_type": "execute_result"
    }
   ],
   "source": [
    "import numpy as np\n",
    "di  = { \"First\" : [100,np.nan,67,87,69,4],\n",
    "       \"second\" : [90,89,np.nan,78,78,56],\n",
    "       \"third\" : [23,46,67,789,9,np.nan]\n",
    "    \n",
    "}\n",
    "df = pd.DataFrame(di)\n",
    "df"
   ]
  },
  {
   "cell_type": "code",
   "execution_count": 24,
   "metadata": {
    "collapsed": true
   },
   "outputs": [
    {
     "data": {
      "text/html": [
       "<div>\n",
       "<style scoped>\n",
       "    .dataframe tbody tr th:only-of-type {\n",
       "        vertical-align: middle;\n",
       "    }\n",
       "\n",
       "    .dataframe tbody tr th {\n",
       "        vertical-align: top;\n",
       "    }\n",
       "\n",
       "    .dataframe thead th {\n",
       "        text-align: right;\n",
       "    }\n",
       "</style>\n",
       "<table border=\"1\" class=\"dataframe\">\n",
       "  <thead>\n",
       "    <tr style=\"text-align: right;\">\n",
       "      <th></th>\n",
       "      <th>First</th>\n",
       "      <th>second</th>\n",
       "      <th>third</th>\n",
       "    </tr>\n",
       "  </thead>\n",
       "  <tbody>\n",
       "    <tr>\n",
       "      <th>0</th>\n",
       "      <td>100.0</td>\n",
       "      <td>90.0</td>\n",
       "      <td>23.0</td>\n",
       "    </tr>\n",
       "    <tr>\n",
       "      <th>3</th>\n",
       "      <td>87.0</td>\n",
       "      <td>78.0</td>\n",
       "      <td>789.0</td>\n",
       "    </tr>\n",
       "    <tr>\n",
       "      <th>4</th>\n",
       "      <td>69.0</td>\n",
       "      <td>78.0</td>\n",
       "      <td>9.0</td>\n",
       "    </tr>\n",
       "  </tbody>\n",
       "</table>\n",
       "</div>"
      ],
      "text/plain": [
       "   First  second  third\n",
       "0  100.0    90.0   23.0\n",
       "3   87.0    78.0  789.0\n",
       "4   69.0    78.0    9.0"
      ]
     },
     "execution_count": 24,
     "metadata": {},
     "output_type": "execute_result"
    }
   ],
   "source": [
    "df.dropna() # it returns entries having not null values "
   ]
  },
  {
   "cell_type": "code",
   "execution_count": 26,
   "metadata": {
    "collapsed": true
   },
   "outputs": [
    {
     "data": {
      "text/html": [
       "<div>\n",
       "<style scoped>\n",
       "    .dataframe tbody tr th:only-of-type {\n",
       "        vertical-align: middle;\n",
       "    }\n",
       "\n",
       "    .dataframe tbody tr th {\n",
       "        vertical-align: top;\n",
       "    }\n",
       "\n",
       "    .dataframe thead th {\n",
       "        text-align: right;\n",
       "    }\n",
       "</style>\n",
       "<table border=\"1\" class=\"dataframe\">\n",
       "  <thead>\n",
       "    <tr style=\"text-align: right;\">\n",
       "      <th></th>\n",
       "      <th>First</th>\n",
       "      <th>second</th>\n",
       "      <th>third</th>\n",
       "    </tr>\n",
       "  </thead>\n",
       "  <tbody>\n",
       "    <tr>\n",
       "      <th>0</th>\n",
       "      <td>100.0</td>\n",
       "      <td>90.0</td>\n",
       "      <td>23.0</td>\n",
       "    </tr>\n",
       "    <tr>\n",
       "      <th>3</th>\n",
       "      <td>87.0</td>\n",
       "      <td>78.0</td>\n",
       "      <td>789.0</td>\n",
       "    </tr>\n",
       "    <tr>\n",
       "      <th>4</th>\n",
       "      <td>69.0</td>\n",
       "      <td>78.0</td>\n",
       "      <td>9.0</td>\n",
       "    </tr>\n",
       "  </tbody>\n",
       "</table>\n",
       "</div>"
      ],
      "text/plain": [
       "   First  second  third\n",
       "0  100.0    90.0   23.0\n",
       "3   87.0    78.0  789.0\n",
       "4   69.0    78.0    9.0"
      ]
     },
     "execution_count": 26,
     "metadata": {},
     "output_type": "execute_result"
    }
   ],
   "source": [
    "df.dropna(axis = 0)"
   ]
  },
  {
   "cell_type": "code",
   "execution_count": 27,
   "metadata": {
    "collapsed": true
   },
   "outputs": [
    {
     "data": {
      "text/html": [
       "<div>\n",
       "<style scoped>\n",
       "    .dataframe tbody tr th:only-of-type {\n",
       "        vertical-align: middle;\n",
       "    }\n",
       "\n",
       "    .dataframe tbody tr th {\n",
       "        vertical-align: top;\n",
       "    }\n",
       "\n",
       "    .dataframe thead th {\n",
       "        text-align: right;\n",
       "    }\n",
       "</style>\n",
       "<table border=\"1\" class=\"dataframe\">\n",
       "  <thead>\n",
       "    <tr style=\"text-align: right;\">\n",
       "      <th></th>\n",
       "    </tr>\n",
       "  </thead>\n",
       "  <tbody>\n",
       "    <tr>\n",
       "      <th>0</th>\n",
       "    </tr>\n",
       "    <tr>\n",
       "      <th>1</th>\n",
       "    </tr>\n",
       "    <tr>\n",
       "      <th>2</th>\n",
       "    </tr>\n",
       "    <tr>\n",
       "      <th>3</th>\n",
       "    </tr>\n",
       "    <tr>\n",
       "      <th>4</th>\n",
       "    </tr>\n",
       "    <tr>\n",
       "      <th>5</th>\n",
       "    </tr>\n",
       "  </tbody>\n",
       "</table>\n",
       "</div>"
      ],
      "text/plain": [
       "Empty DataFrame\n",
       "Columns: []\n",
       "Index: [0, 1, 2, 3, 4, 5]"
      ]
     },
     "execution_count": 27,
     "metadata": {},
     "output_type": "execute_result"
    }
   ],
   "source": [
    "df.dropna(axis = 1)"
   ]
  },
  {
   "cell_type": "code",
   "execution_count": 29,
   "metadata": {
    "collapsed": true
   },
   "outputs": [
    {
     "data": {
      "text/plain": [
       "First     1\n",
       "second    1\n",
       "third     1\n",
       "dtype: int64"
      ]
     },
     "execution_count": 29,
     "metadata": {},
     "output_type": "execute_result"
    }
   ],
   "source": [
    "df.isna().sum()"
   ]
  },
  {
   "cell_type": "markdown",
   "metadata": {},
   "source": [
    "## Dropping Duplicate values"
   ]
  },
  {
   "cell_type": "code",
   "execution_count": 41,
   "metadata": {},
   "outputs": [
    {
     "data": {
      "text/html": [
       "<div>\n",
       "<style scoped>\n",
       "    .dataframe tbody tr th:only-of-type {\n",
       "        vertical-align: middle;\n",
       "    }\n",
       "\n",
       "    .dataframe tbody tr th {\n",
       "        vertical-align: top;\n",
       "    }\n",
       "\n",
       "    .dataframe thead th {\n",
       "        text-align: right;\n",
       "    }\n",
       "</style>\n",
       "<table border=\"1\" class=\"dataframe\">\n",
       "  <thead>\n",
       "    <tr style=\"text-align: right;\">\n",
       "      <th></th>\n",
       "      <th>First</th>\n",
       "      <th>second</th>\n",
       "      <th>third</th>\n",
       "    </tr>\n",
       "  </thead>\n",
       "  <tbody>\n",
       "    <tr>\n",
       "      <th>0</th>\n",
       "      <td>100.0</td>\n",
       "      <td>90.0</td>\n",
       "      <td>23.0</td>\n",
       "    </tr>\n",
       "    <tr>\n",
       "      <th>1</th>\n",
       "      <td>89.0</td>\n",
       "      <td>80.0</td>\n",
       "      <td>46.0</td>\n",
       "    </tr>\n",
       "    <tr>\n",
       "      <th>2</th>\n",
       "      <td>89.0</td>\n",
       "      <td>80.0</td>\n",
       "      <td>46.0</td>\n",
       "    </tr>\n",
       "    <tr>\n",
       "      <th>3</th>\n",
       "      <td>NaN</td>\n",
       "      <td>NaN</td>\n",
       "      <td>67.0</td>\n",
       "    </tr>\n",
       "    <tr>\n",
       "      <th>4</th>\n",
       "      <td>67.0</td>\n",
       "      <td>78.0</td>\n",
       "      <td>789.0</td>\n",
       "    </tr>\n",
       "    <tr>\n",
       "      <th>5</th>\n",
       "      <td>87.0</td>\n",
       "      <td>78.0</td>\n",
       "      <td>9.0</td>\n",
       "    </tr>\n",
       "    <tr>\n",
       "      <th>6</th>\n",
       "      <td>89.0</td>\n",
       "      <td>78.0</td>\n",
       "      <td>NaN</td>\n",
       "    </tr>\n",
       "  </tbody>\n",
       "</table>\n",
       "</div>"
      ],
      "text/plain": [
       "   First  second  third\n",
       "0  100.0    90.0   23.0\n",
       "1   89.0    80.0   46.0\n",
       "2   89.0    80.0   46.0\n",
       "3    NaN     NaN   67.0\n",
       "4   67.0    78.0  789.0\n",
       "5   87.0    78.0    9.0\n",
       "6   89.0    78.0    NaN"
      ]
     },
     "execution_count": 41,
     "metadata": {},
     "output_type": "execute_result"
    }
   ],
   "source": [
    "import numpy as np\n",
    "di  = { \"First\" : [100,89,np.nan,67,87,89],\n",
    "       \"second\" : [90,80,np.nan,78,78,78],\n",
    "       \"third\" : [23,46,67,789,9,np.nan]\n",
    "    \n",
    "}\n",
    "df = pd.DataFrame(di)\n",
    "df"
   ]
  },
  {
   "cell_type": "code",
   "execution_count": 38,
   "metadata": {
    "collapsed": true
   },
   "outputs": [
    {
     "data": {
      "text/plain": [
       "0    False\n",
       "1    False\n",
       "2    False\n",
       "3    False\n",
       "4    False\n",
       "5    False\n",
       "dtype: bool"
      ]
     },
     "execution_count": 38,
     "metadata": {},
     "output_type": "execute_result"
    }
   ],
   "source": [
    "df.duplicated()"
   ]
  },
  {
   "cell_type": "code",
   "execution_count": 39,
   "metadata": {},
   "outputs": [
    {
     "data": {
      "text/plain": [
       "(6, 3)"
      ]
     },
     "execution_count": 39,
     "metadata": {},
     "output_type": "execute_result"
    }
   ],
   "source": [
    "df.shape"
   ]
  },
  {
   "cell_type": "code",
   "execution_count": 40,
   "metadata": {
    "collapsed": true
   },
   "outputs": [
    {
     "data": {
      "text/html": [
       "<div>\n",
       "<style scoped>\n",
       "    .dataframe tbody tr th:only-of-type {\n",
       "        vertical-align: middle;\n",
       "    }\n",
       "\n",
       "    .dataframe tbody tr th {\n",
       "        vertical-align: top;\n",
       "    }\n",
       "\n",
       "    .dataframe thead th {\n",
       "        text-align: right;\n",
       "    }\n",
       "</style>\n",
       "<table border=\"1\" class=\"dataframe\">\n",
       "  <thead>\n",
       "    <tr style=\"text-align: right;\">\n",
       "      <th></th>\n",
       "      <th>First</th>\n",
       "      <th>second</th>\n",
       "      <th>third</th>\n",
       "    </tr>\n",
       "  </thead>\n",
       "  <tbody>\n",
       "    <tr>\n",
       "      <th>0</th>\n",
       "      <td>100.0</td>\n",
       "      <td>90.0</td>\n",
       "      <td>23.0</td>\n",
       "    </tr>\n",
       "    <tr>\n",
       "      <th>1</th>\n",
       "      <td>89.0</td>\n",
       "      <td>80.0</td>\n",
       "      <td>46.0</td>\n",
       "    </tr>\n",
       "    <tr>\n",
       "      <th>2</th>\n",
       "      <td>NaN</td>\n",
       "      <td>NaN</td>\n",
       "      <td>67.0</td>\n",
       "    </tr>\n",
       "    <tr>\n",
       "      <th>3</th>\n",
       "      <td>67.0</td>\n",
       "      <td>78.0</td>\n",
       "      <td>789.0</td>\n",
       "    </tr>\n",
       "    <tr>\n",
       "      <th>4</th>\n",
       "      <td>87.0</td>\n",
       "      <td>78.0</td>\n",
       "      <td>9.0</td>\n",
       "    </tr>\n",
       "    <tr>\n",
       "      <th>5</th>\n",
       "      <td>89.0</td>\n",
       "      <td>78.0</td>\n",
       "      <td>NaN</td>\n",
       "    </tr>\n",
       "  </tbody>\n",
       "</table>\n",
       "</div>"
      ],
      "text/plain": [
       "   First  second  third\n",
       "0  100.0    90.0   23.0\n",
       "1   89.0    80.0   46.0\n",
       "2    NaN     NaN   67.0\n",
       "3   67.0    78.0  789.0\n",
       "4   87.0    78.0    9.0\n",
       "5   89.0    78.0    NaN"
      ]
     },
     "execution_count": 40,
     "metadata": {},
     "output_type": "execute_result"
    }
   ],
   "source": [
    "df.drop_duplicates() # "
   ]
  },
  {
   "cell_type": "code",
   "execution_count": 42,
   "metadata": {
    "collapsed": true
   },
   "outputs": [
    {
     "data": {
      "text/html": [
       "<div>\n",
       "<style scoped>\n",
       "    .dataframe tbody tr th:only-of-type {\n",
       "        vertical-align: middle;\n",
       "    }\n",
       "\n",
       "    .dataframe tbody tr th {\n",
       "        vertical-align: top;\n",
       "    }\n",
       "\n",
       "    .dataframe thead th {\n",
       "        text-align: right;\n",
       "    }\n",
       "</style>\n",
       "<table border=\"1\" class=\"dataframe\">\n",
       "  <thead>\n",
       "    <tr style=\"text-align: right;\">\n",
       "      <th></th>\n",
       "      <th>First</th>\n",
       "      <th>second</th>\n",
       "      <th>third</th>\n",
       "    </tr>\n",
       "  </thead>\n",
       "  <tbody>\n",
       "    <tr>\n",
       "      <th>0</th>\n",
       "      <td>100.0</td>\n",
       "      <td>90.0</td>\n",
       "      <td>23.0</td>\n",
       "    </tr>\n",
       "    <tr>\n",
       "      <th>1</th>\n",
       "      <td>89.0</td>\n",
       "      <td>80.0</td>\n",
       "      <td>46.0</td>\n",
       "    </tr>\n",
       "    <tr>\n",
       "      <th>2</th>\n",
       "      <td>89.0</td>\n",
       "      <td>80.0</td>\n",
       "      <td>46.0</td>\n",
       "    </tr>\n",
       "    <tr>\n",
       "      <th>3</th>\n",
       "      <td>NaN</td>\n",
       "      <td>NaN</td>\n",
       "      <td>67.0</td>\n",
       "    </tr>\n",
       "    <tr>\n",
       "      <th>4</th>\n",
       "      <td>67.0</td>\n",
       "      <td>78.0</td>\n",
       "      <td>789.0</td>\n",
       "    </tr>\n",
       "    <tr>\n",
       "      <th>5</th>\n",
       "      <td>87.0</td>\n",
       "      <td>78.0</td>\n",
       "      <td>9.0</td>\n",
       "    </tr>\n",
       "    <tr>\n",
       "      <th>6</th>\n",
       "      <td>89.0</td>\n",
       "      <td>78.0</td>\n",
       "      <td>NaN</td>\n",
       "    </tr>\n",
       "  </tbody>\n",
       "</table>\n",
       "</div>"
      ],
      "text/plain": [
       "   First  second  third\n",
       "0  100.0    90.0   23.0\n",
       "1   89.0    80.0   46.0\n",
       "2   89.0    80.0   46.0\n",
       "3    NaN     NaN   67.0\n",
       "4   67.0    78.0  789.0\n",
       "5   87.0    78.0    9.0\n",
       "6   89.0    78.0    NaN"
      ]
     },
     "execution_count": 42,
     "metadata": {},
     "output_type": "execute_result"
    }
   ],
   "source": [
    "import numpy as np\n",
    "di  = { \"First\" : [100,89,89,np.nan,67,87,89],\n",
    "       \"second\" : [90,80,80,np.nan,78,78,78],\n",
    "       \"third\" : [23,46,46,67,789,9,np.nan]\n",
    "    \n",
    "}\n",
    "df = pd.DataFrame(di)\n",
    "df"
   ]
  },
  {
   "cell_type": "code",
   "execution_count": 43,
   "metadata": {
    "collapsed": true
   },
   "outputs": [
    {
     "data": {
      "text/plain": [
       "0    False\n",
       "1    False\n",
       "2     True\n",
       "3    False\n",
       "4    False\n",
       "5    False\n",
       "6    False\n",
       "dtype: bool"
      ]
     },
     "execution_count": 43,
     "metadata": {},
     "output_type": "execute_result"
    }
   ],
   "source": [
    "df.duplicated()"
   ]
  },
  {
   "cell_type": "code",
   "execution_count": 44,
   "metadata": {
    "collapsed": true
   },
   "outputs": [
    {
     "data": {
      "text/html": [
       "<div>\n",
       "<style scoped>\n",
       "    .dataframe tbody tr th:only-of-type {\n",
       "        vertical-align: middle;\n",
       "    }\n",
       "\n",
       "    .dataframe tbody tr th {\n",
       "        vertical-align: top;\n",
       "    }\n",
       "\n",
       "    .dataframe thead th {\n",
       "        text-align: right;\n",
       "    }\n",
       "</style>\n",
       "<table border=\"1\" class=\"dataframe\">\n",
       "  <thead>\n",
       "    <tr style=\"text-align: right;\">\n",
       "      <th></th>\n",
       "      <th>First</th>\n",
       "      <th>second</th>\n",
       "      <th>third</th>\n",
       "    </tr>\n",
       "  </thead>\n",
       "  <tbody>\n",
       "    <tr>\n",
       "      <th>0</th>\n",
       "      <td>100.0</td>\n",
       "      <td>90.0</td>\n",
       "      <td>23.0</td>\n",
       "    </tr>\n",
       "    <tr>\n",
       "      <th>1</th>\n",
       "      <td>89.0</td>\n",
       "      <td>80.0</td>\n",
       "      <td>46.0</td>\n",
       "    </tr>\n",
       "    <tr>\n",
       "      <th>3</th>\n",
       "      <td>NaN</td>\n",
       "      <td>NaN</td>\n",
       "      <td>67.0</td>\n",
       "    </tr>\n",
       "    <tr>\n",
       "      <th>4</th>\n",
       "      <td>67.0</td>\n",
       "      <td>78.0</td>\n",
       "      <td>789.0</td>\n",
       "    </tr>\n",
       "    <tr>\n",
       "      <th>5</th>\n",
       "      <td>87.0</td>\n",
       "      <td>78.0</td>\n",
       "      <td>9.0</td>\n",
       "    </tr>\n",
       "    <tr>\n",
       "      <th>6</th>\n",
       "      <td>89.0</td>\n",
       "      <td>78.0</td>\n",
       "      <td>NaN</td>\n",
       "    </tr>\n",
       "  </tbody>\n",
       "</table>\n",
       "</div>"
      ],
      "text/plain": [
       "   First  second  third\n",
       "0  100.0    90.0   23.0\n",
       "1   89.0    80.0   46.0\n",
       "3    NaN     NaN   67.0\n",
       "4   67.0    78.0  789.0\n",
       "5   87.0    78.0    9.0\n",
       "6   89.0    78.0    NaN"
      ]
     },
     "execution_count": 44,
     "metadata": {},
     "output_type": "execute_result"
    }
   ],
   "source": [
    "df.drop_duplicates()"
   ]
  },
  {
   "cell_type": "code",
   "execution_count": null,
   "metadata": {},
   "outputs": [],
   "source": [
    "1 -- lavanya@gmail.com lavanya 72\n",
    "2 -- lavanya@gmail.com mercy 27\n",
    "\n",
    "2 different"
   ]
  },
  {
   "cell_type": "code",
   "execution_count": 45,
   "metadata": {
    "collapsed": true
   },
   "outputs": [
    {
     "data": {
      "text/html": [
       "<div>\n",
       "<style scoped>\n",
       "    .dataframe tbody tr th:only-of-type {\n",
       "        vertical-align: middle;\n",
       "    }\n",
       "\n",
       "    .dataframe tbody tr th {\n",
       "        vertical-align: top;\n",
       "    }\n",
       "\n",
       "    .dataframe thead th {\n",
       "        text-align: right;\n",
       "    }\n",
       "</style>\n",
       "<table border=\"1\" class=\"dataframe\">\n",
       "  <thead>\n",
       "    <tr style=\"text-align: right;\">\n",
       "      <th></th>\n",
       "      <th>First</th>\n",
       "      <th>second</th>\n",
       "      <th>third</th>\n",
       "    </tr>\n",
       "  </thead>\n",
       "  <tbody>\n",
       "    <tr>\n",
       "      <th>0</th>\n",
       "      <td>100.0</td>\n",
       "      <td>90.0</td>\n",
       "      <td>23.0</td>\n",
       "    </tr>\n",
       "    <tr>\n",
       "      <th>1</th>\n",
       "      <td>89.0</td>\n",
       "      <td>80.0</td>\n",
       "      <td>46.0</td>\n",
       "    </tr>\n",
       "    <tr>\n",
       "      <th>3</th>\n",
       "      <td>NaN</td>\n",
       "      <td>NaN</td>\n",
       "      <td>67.0</td>\n",
       "    </tr>\n",
       "    <tr>\n",
       "      <th>4</th>\n",
       "      <td>67.0</td>\n",
       "      <td>78.0</td>\n",
       "      <td>789.0</td>\n",
       "    </tr>\n",
       "  </tbody>\n",
       "</table>\n",
       "</div>"
      ],
      "text/plain": [
       "   First  second  third\n",
       "0  100.0    90.0   23.0\n",
       "1   89.0    80.0   46.0\n",
       "3    NaN     NaN   67.0\n",
       "4   67.0    78.0  789.0"
      ]
     },
     "execution_count": 45,
     "metadata": {},
     "output_type": "execute_result"
    }
   ],
   "source": [
    "df.drop_duplicates(subset = \"second\")"
   ]
  },
  {
   "cell_type": "code",
   "execution_count": 47,
   "metadata": {},
   "outputs": [
    {
     "data": {
      "text/html": [
       "<div>\n",
       "<style scoped>\n",
       "    .dataframe tbody tr th:only-of-type {\n",
       "        vertical-align: middle;\n",
       "    }\n",
       "\n",
       "    .dataframe tbody tr th {\n",
       "        vertical-align: top;\n",
       "    }\n",
       "\n",
       "    .dataframe thead th {\n",
       "        text-align: right;\n",
       "    }\n",
       "</style>\n",
       "<table border=\"1\" class=\"dataframe\">\n",
       "  <thead>\n",
       "    <tr style=\"text-align: right;\">\n",
       "      <th></th>\n",
       "      <th>First</th>\n",
       "      <th>second</th>\n",
       "      <th>third</th>\n",
       "    </tr>\n",
       "  </thead>\n",
       "  <tbody>\n",
       "    <tr>\n",
       "      <th>0</th>\n",
       "      <td>100.0</td>\n",
       "      <td>90.0</td>\n",
       "      <td>23.0</td>\n",
       "    </tr>\n",
       "    <tr>\n",
       "      <th>1</th>\n",
       "      <td>89.0</td>\n",
       "      <td>80.0</td>\n",
       "      <td>46.0</td>\n",
       "    </tr>\n",
       "    <tr>\n",
       "      <th>3</th>\n",
       "      <td>NaN</td>\n",
       "      <td>NaN</td>\n",
       "      <td>67.0</td>\n",
       "    </tr>\n",
       "    <tr>\n",
       "      <th>4</th>\n",
       "      <td>67.0</td>\n",
       "      <td>78.0</td>\n",
       "      <td>789.0</td>\n",
       "    </tr>\n",
       "    <tr>\n",
       "      <th>5</th>\n",
       "      <td>87.0</td>\n",
       "      <td>78.0</td>\n",
       "      <td>9.0</td>\n",
       "    </tr>\n",
       "    <tr>\n",
       "      <th>6</th>\n",
       "      <td>89.0</td>\n",
       "      <td>78.0</td>\n",
       "      <td>NaN</td>\n",
       "    </tr>\n",
       "  </tbody>\n",
       "</table>\n",
       "</div>"
      ],
      "text/plain": [
       "   First  second  third\n",
       "0  100.0    90.0   23.0\n",
       "1   89.0    80.0   46.0\n",
       "3    NaN     NaN   67.0\n",
       "4   67.0    78.0  789.0\n",
       "5   87.0    78.0    9.0\n",
       "6   89.0    78.0    NaN"
      ]
     },
     "execution_count": 47,
     "metadata": {},
     "output_type": "execute_result"
    }
   ],
   "source": [
    "df.drop_duplicates(subset = [\"second\",\"third\"])"
   ]
  },
  {
   "cell_type": "code",
   "execution_count": null,
   "metadata": {},
   "outputs": [],
   "source": [
    "1lakh ----  \n",
    "\n",
    "10k -- "
   ]
  },
  {
   "cell_type": "code",
   "execution_count": null,
   "metadata": {},
   "outputs": [],
   "source": [
    "600 -- 601 \n",
    "10/10  --  10.1 --- outlier \n",
    "\n",
    "1000 record --  2020 student data \n",
    "2 records -- 2002 student data "
   ]
  },
  {
   "cell_type": "markdown",
   "metadata": {},
   "source": [
    "## Identifying and Eliminating Outliers\n"
   ]
  },
  {
   "cell_type": "code",
   "execution_count": 49,
   "metadata": {},
   "outputs": [
    {
     "data": {
      "text/html": [
       "<div>\n",
       "<style scoped>\n",
       "    .dataframe tbody tr th:only-of-type {\n",
       "        vertical-align: middle;\n",
       "    }\n",
       "\n",
       "    .dataframe tbody tr th {\n",
       "        vertical-align: top;\n",
       "    }\n",
       "\n",
       "    .dataframe thead th {\n",
       "        text-align: right;\n",
       "    }\n",
       "</style>\n",
       "<table border=\"1\" class=\"dataframe\">\n",
       "  <thead>\n",
       "    <tr style=\"text-align: right;\">\n",
       "      <th></th>\n",
       "      <th>TV</th>\n",
       "      <th>radio</th>\n",
       "      <th>newspaper</th>\n",
       "      <th>sales</th>\n",
       "    </tr>\n",
       "  </thead>\n",
       "  <tbody>\n",
       "    <tr>\n",
       "      <th>0</th>\n",
       "      <td>230.1</td>\n",
       "      <td>37.8</td>\n",
       "      <td>69.2</td>\n",
       "      <td>22.1</td>\n",
       "    </tr>\n",
       "    <tr>\n",
       "      <th>1</th>\n",
       "      <td>44.5</td>\n",
       "      <td>39.3</td>\n",
       "      <td>45.1</td>\n",
       "      <td>10.4</td>\n",
       "    </tr>\n",
       "    <tr>\n",
       "      <th>2</th>\n",
       "      <td>17.2</td>\n",
       "      <td>45.9</td>\n",
       "      <td>69.3</td>\n",
       "      <td>9.3</td>\n",
       "    </tr>\n",
       "    <tr>\n",
       "      <th>3</th>\n",
       "      <td>151.5</td>\n",
       "      <td>41.3</td>\n",
       "      <td>58.5</td>\n",
       "      <td>18.5</td>\n",
       "    </tr>\n",
       "    <tr>\n",
       "      <th>4</th>\n",
       "      <td>180.8</td>\n",
       "      <td>10.8</td>\n",
       "      <td>58.4</td>\n",
       "      <td>12.9</td>\n",
       "    </tr>\n",
       "  </tbody>\n",
       "</table>\n",
       "</div>"
      ],
      "text/plain": [
       "      TV  radio  newspaper  sales\n",
       "0  230.1   37.8       69.2   22.1\n",
       "1   44.5   39.3       45.1   10.4\n",
       "2   17.2   45.9       69.3    9.3\n",
       "3  151.5   41.3       58.5   18.5\n",
       "4  180.8   10.8       58.4   12.9"
      ]
     },
     "execution_count": 49,
     "metadata": {},
     "output_type": "execute_result"
    }
   ],
   "source": [
    "adv = pd.read_csv(\"https://raw.githubusercontent.com/APSSDC-Data-Analysis/DataAnalysisBatch-6/main/08-10-2020(Day-4)/Datasets/Advertising.csv\")\n",
    "adv.head()"
   ]
  },
  {
   "cell_type": "code",
   "execution_count": 50,
   "metadata": {},
   "outputs": [],
   "source": [
    "import matplotlib.pyplot as plt"
   ]
  },
  {
   "cell_type": "code",
   "execution_count": 57,
   "metadata": {},
   "outputs": [
    {
     "data": {
      "image/png": "[encoded data removed]",
      "text/plain": [
       "<Figure size 432x288 with 1 Axes>"
      ]
     },
     "metadata": {
      "needs_background": "light"
     },
     "output_type": "display_data"
    }
   ],
   "source": [
    "adv.plot(kind = \"box\")\n",
    "plt.show()"
   ]
  },
  {
   "cell_type": "code",
   "execution_count": 59,
   "metadata": {},
   "outputs": [
    {
     "data": {
      "text/plain": [
       "TV           144.450\n",
       "radio         26.550\n",
       "newspaper     32.350\n",
       "sales          7.025\n",
       "dtype: float64"
      ]
     },
     "execution_count": 59,
     "metadata": {},
     "output_type": "execute_result"
    }
   ],
   "source": [
    "# interquartile range(IQR) = Q3(quantile(0.75)) − Q1(quantile(0.25))\n",
    "Q3 = adv.quantile(0.75)\n",
    "Q1 = adv.quantile(0.25)\n",
    "IQR = Q3 - Q1\n",
    "IQR"
   ]
  },
  {
   "cell_type": "code",
   "execution_count": 63,
   "metadata": {},
   "outputs": [
    {
     "data": {
      "text/html": [
       "<div>\n",
       "<style scoped>\n",
       "    .dataframe tbody tr th:only-of-type {\n",
       "        vertical-align: middle;\n",
       "    }\n",
       "\n",
       "    .dataframe tbody tr th {\n",
       "        vertical-align: top;\n",
       "    }\n",
       "\n",
       "    .dataframe thead th {\n",
       "        text-align: right;\n",
       "    }\n",
       "</style>\n",
       "<table border=\"1\" class=\"dataframe\">\n",
       "  <thead>\n",
       "    <tr style=\"text-align: right;\">\n",
       "      <th></th>\n",
       "      <th>TV</th>\n",
       "      <th>radio</th>\n",
       "      <th>newspaper</th>\n",
       "      <th>sales</th>\n",
       "    </tr>\n",
       "  </thead>\n",
       "  <tbody>\n",
       "    <tr>\n",
       "      <th>16</th>\n",
       "      <td>67.8</td>\n",
       "      <td>36.6</td>\n",
       "      <td>114.0</td>\n",
       "      <td>12.5</td>\n",
       "    </tr>\n",
       "    <tr>\n",
       "      <th>101</th>\n",
       "      <td>296.4</td>\n",
       "      <td>36.3</td>\n",
       "      <td>100.9</td>\n",
       "      <td>23.8</td>\n",
       "    </tr>\n",
       "  </tbody>\n",
       "</table>\n",
       "</div>"
      ],
      "text/plain": [
       "        TV  radio  newspaper  sales\n",
       "16    67.8   36.6      114.0   12.5\n",
       "101  296.4   36.3      100.9   23.8"
      ]
     },
     "execution_count": 63,
     "metadata": {},
     "output_type": "execute_result"
    }
   ],
   "source": [
    "filter_data = adv[((adv < (Q1-1.5*IQR)) | (adv > (Q3+1.5*IQR))).any(axis = 1)]\n",
    "filter_data"
   ]
  },
  {
   "cell_type": "code",
   "execution_count": 64,
   "metadata": {
    "collapsed": true
   },
   "outputs": [
    {
     "data": {
      "text/html": [
       "<div>\n",
       "<style scoped>\n",
       "    .dataframe tbody tr th:only-of-type {\n",
       "        vertical-align: middle;\n",
       "    }\n",
       "\n",
       "    .dataframe tbody tr th {\n",
       "        vertical-align: top;\n",
       "    }\n",
       "\n",
       "    .dataframe thead th {\n",
       "        text-align: right;\n",
       "    }\n",
       "</style>\n",
       "<table border=\"1\" class=\"dataframe\">\n",
       "  <thead>\n",
       "    <tr style=\"text-align: right;\">\n",
       "      <th></th>\n",
       "      <th>TV</th>\n",
       "      <th>radio</th>\n",
       "      <th>newspaper</th>\n",
       "      <th>sales</th>\n",
       "    </tr>\n",
       "  </thead>\n",
       "  <tbody>\n",
       "    <tr>\n",
       "      <th>0</th>\n",
       "      <td>230.1</td>\n",
       "      <td>37.8</td>\n",
       "      <td>69.2</td>\n",
       "      <td>22.1</td>\n",
       "    </tr>\n",
       "    <tr>\n",
       "      <th>1</th>\n",
       "      <td>44.5</td>\n",
       "      <td>39.3</td>\n",
       "      <td>45.1</td>\n",
       "      <td>10.4</td>\n",
       "    </tr>\n",
       "    <tr>\n",
       "      <th>2</th>\n",
       "      <td>17.2</td>\n",
       "      <td>45.9</td>\n",
       "      <td>69.3</td>\n",
       "      <td>9.3</td>\n",
       "    </tr>\n",
       "    <tr>\n",
       "      <th>3</th>\n",
       "      <td>151.5</td>\n",
       "      <td>41.3</td>\n",
       "      <td>58.5</td>\n",
       "      <td>18.5</td>\n",
       "    </tr>\n",
       "    <tr>\n",
       "      <th>4</th>\n",
       "      <td>180.8</td>\n",
       "      <td>10.8</td>\n",
       "      <td>58.4</td>\n",
       "      <td>12.9</td>\n",
       "    </tr>\n",
       "    <tr>\n",
       "      <th>...</th>\n",
       "      <td>...</td>\n",
       "      <td>...</td>\n",
       "      <td>...</td>\n",
       "      <td>...</td>\n",
       "    </tr>\n",
       "    <tr>\n",
       "      <th>195</th>\n",
       "      <td>38.2</td>\n",
       "      <td>3.7</td>\n",
       "      <td>13.8</td>\n",
       "      <td>7.6</td>\n",
       "    </tr>\n",
       "    <tr>\n",
       "      <th>196</th>\n",
       "      <td>94.2</td>\n",
       "      <td>4.9</td>\n",
       "      <td>8.1</td>\n",
       "      <td>9.7</td>\n",
       "    </tr>\n",
       "    <tr>\n",
       "      <th>197</th>\n",
       "      <td>177.0</td>\n",
       "      <td>9.3</td>\n",
       "      <td>6.4</td>\n",
       "      <td>12.8</td>\n",
       "    </tr>\n",
       "    <tr>\n",
       "      <th>198</th>\n",
       "      <td>283.6</td>\n",
       "      <td>42.0</td>\n",
       "      <td>66.2</td>\n",
       "      <td>25.5</td>\n",
       "    </tr>\n",
       "    <tr>\n",
       "      <th>199</th>\n",
       "      <td>232.1</td>\n",
       "      <td>8.6</td>\n",
       "      <td>8.7</td>\n",
       "      <td>13.4</td>\n",
       "    </tr>\n",
       "  </tbody>\n",
       "</table>\n",
       "<p>198 rows × 4 columns</p>\n",
       "</div>"
      ],
      "text/plain": [
       "        TV  radio  newspaper  sales\n",
       "0    230.1   37.8       69.2   22.1\n",
       "1     44.5   39.3       45.1   10.4\n",
       "2     17.2   45.9       69.3    9.3\n",
       "3    151.5   41.3       58.5   18.5\n",
       "4    180.8   10.8       58.4   12.9\n",
       "..     ...    ...        ...    ...\n",
       "195   38.2    3.7       13.8    7.6\n",
       "196   94.2    4.9        8.1    9.7\n",
       "197  177.0    9.3        6.4   12.8\n",
       "198  283.6   42.0       66.2   25.5\n",
       "199  232.1    8.6        8.7   13.4\n",
       "\n",
       "[198 rows x 4 columns]"
      ]
     },
     "execution_count": 64,
     "metadata": {},
     "output_type": "execute_result"
    }
   ],
   "source": [
    "# interquartile range(IQR) = Q3(quantile(0.75)) − Q1(quantile(0.25))\n",
    "Q3 = adv.quantile(0.75)\n",
    "Q1 = adv.quantile(0.25)\n",
    "IQR = Q3 - Q1\n",
    "IQR\n",
    "filter_data = adv[~((adv < (Q1-1.5*IQR)) | (adv > (Q3+1.5*IQR))).any(axis = 1)]\n",
    "filter_data"
   ]
  },
  {
   "cell_type": "code",
   "execution_count": 66,
   "metadata": {},
   "outputs": [
    {
     "data": {
      "image/png": "[encoded data removed]",
      "text/plain": [
       "<Figure size 432x288 with 1 Axes>"
      ]
     },
     "metadata": {
      "needs_background": "light"
     },
     "output_type": "display_data"
    }
   ],
   "source": [
    "filter_data.plot(kind = \"box\")\n",
    "plt.show()"
   ]
  },
  {
   "cell_type": "code",
   "execution_count": null,
   "metadata": {},
   "outputs": [],
   "source": []
  },
  {
   "cell_type": "code",
   "execution_count": null,
   "metadata": {},
   "outputs": [],
   "source": []
  },
  {
   "cell_type": "code",
   "execution_count": null,
   "metadata": {},
   "outputs": [],
   "source": []
  },
  {
   "cell_type": "code",
   "execution_count": null,
   "metadata": {},
   "outputs": [],
   "source": []
  },
  {
   "cell_type": "markdown",
   "metadata": {},
   "source": [
    "# Data Preprocessing with scikit-learn\n",
    "\n",
    "# Preprocessing Techniques\n",
    "* Data Preprocessing is a technique that is used to convert the raw data into a clean data set\n",
    "\n",
    "### Data preprocessing steps\n",
    "\n",
    "* loading data (reading files)\n",
    "* exploring data (summarizing,statastics..ect)\n",
    "* cleaning data  ( handling missing data)\n",
    "* Transforming data ( Scaling, feature engineering etc)\n",
    "\n",
    "    * will learn data preprocessing techniques with scikit-learn, one of the most popular frameworks used for industry data science\n",
    "    * The scikit-learn library includes tools for data preprocessing and data mining. It is imported in Python via the statement import sklearn.\n",
    "\n",
    "![ddd.PNG](ddd.PNG)\n",
    "\n",
    "### Data Imputation \n",
    "* if the dataset is missing too many values, we just don't use it\n",
    "*  if only a few of the values are missing, we can perform data imputation to substitute the missing data with some other value(s).\n",
    "* There are many different methods for data imputation\n",
    "    * Using the mean value\n",
    "    * Using the median value\n",
    "    * Using the most frequent value\n",
    "    * Filling in missing values with a constant\n",
    "    \n",
    "**ex: Sem exams and electric bills **\n",
    "\n",
    "\n",
    "## Feature Scaling\n",
    "\n",
    "### 1.Standardizing Data\n",
    "\n",
    "**ex : distance  (cm,m,km,miles)**                      \n",
    "\n",
    "* Data scientists will convert the data into a standard format to make it easier to understand.\n",
    "* The standard format refers to data that has 0 mean and unit variance (i.e. standard deviation = 1), and the process of    converting data into this format is called data standardization.\n",
    "* improve the performance of models\n",
    "* it rescales the data to have mean = 0 and varience(statistical measure that provides indicator of data's dispresion) = 1\n",
    "\n",
    "* Standardization rescales data so that it has a mean of 0 and a standard deviation of 1.\n",
    "* The formula for this is:  (𝑥 − 𝜇)/𝜎\n",
    "\n",
    "    * We subtract the mean (𝜇) from each value (x) and then divide by the standard deviation (𝜎)\n",
    "    \n",
    "![stddata.PNG](stddata.PNG)\n",
    "\n",
    "![std.PNG](std.PNG)\n",
    "\n",
    "    \n",
    "### 2. Data Range\n",
    "\n",
    "* Scale data by compressing it into a fixed range\n",
    "* One of the biggest use cases for this is compressing data into the range [0, 1]\n",
    "* MinMaxScaler \n",
    "![minmax.PNG](minmax.PNG)\n",
    "\n",
    "### 3. Normalizing Data\n",
    "\n",
    "* Want to scale the individual data observations (i.e. rows)\n",
    "* Used in classification Problems and data mining \n",
    "* **ex : columns : salary,ex_yr,position_levels**\n",
    "* when clustering data we need to apply L2 normalization to each row\n",
    "* L2 normalization applied to a particular row of a data array \n",
    "* L2 norm of a row is just the square root of the sum of squared values for the row\n",
    "![norm.png](norm.PNG)\n",
    "\n",
    "\n",
    "### 4. Robust Scaling\n",
    "* Deal with is outliers (data point that is significantly further away from the other data points)\n",
    "* Robustly scale the data, i.e. avoid being affected by outliers\n",
    "* Scaling by using data's median and Interquartile Range (IQR)\n",
    "* Here mean affected but median remains same\n",
    "* Subtract the median from each data value then scale to the IQR\n",
    "\n"
   ]
  },
  {
   "cell_type": "code",
   "execution_count": null,
   "metadata": {},
   "outputs": [],
   "source": [
    "[10kg, 1000tone, 800gms, 70gms]  --- weight \n",
    "\n",
    "kg \n",
    "\n",
    "10+1000+800+70 ---- "
   ]
  },
  {
   "cell_type": "markdown",
   "metadata": {},
   "source": [
    "# Data Imputation"
   ]
  },
  {
   "cell_type": "code",
   "execution_count": 67,
   "metadata": {},
   "outputs": [],
   "source": [
    "from sklearn.impute import SimpleImputer"
   ]
  },
  {
   "cell_type": "code",
   "execution_count": 69,
   "metadata": {},
   "outputs": [
    {
     "data": {
      "text/html": [
       "<div>\n",
       "<style scoped>\n",
       "    .dataframe tbody tr th:only-of-type {\n",
       "        vertical-align: middle;\n",
       "    }\n",
       "\n",
       "    .dataframe tbody tr th {\n",
       "        vertical-align: top;\n",
       "    }\n",
       "\n",
       "    .dataframe thead th {\n",
       "        text-align: right;\n",
       "    }\n",
       "</style>\n",
       "<table border=\"1\" class=\"dataframe\">\n",
       "  <thead>\n",
       "    <tr style=\"text-align: right;\">\n",
       "      <th></th>\n",
       "      <th>a</th>\n",
       "      <th>b</th>\n",
       "      <th>c</th>\n",
       "    </tr>\n",
       "  </thead>\n",
       "  <tbody>\n",
       "    <tr>\n",
       "      <th>1</th>\n",
       "      <td>12.0</td>\n",
       "      <td>90.0</td>\n",
       "      <td>13.0</td>\n",
       "    </tr>\n",
       "    <tr>\n",
       "      <th>2</th>\n",
       "      <td>34.0</td>\n",
       "      <td>NaN</td>\n",
       "      <td>45.0</td>\n",
       "    </tr>\n",
       "    <tr>\n",
       "      <th>3</th>\n",
       "      <td>45.0</td>\n",
       "      <td>89.0</td>\n",
       "      <td>35.0</td>\n",
       "    </tr>\n",
       "    <tr>\n",
       "      <th>4</th>\n",
       "      <td>NaN</td>\n",
       "      <td>78.0</td>\n",
       "      <td>35.0</td>\n",
       "    </tr>\n",
       "    <tr>\n",
       "      <th>5</th>\n",
       "      <td>56.0</td>\n",
       "      <td>89.0</td>\n",
       "      <td>NaN</td>\n",
       "    </tr>\n",
       "  </tbody>\n",
       "</table>\n",
       "</div>"
      ],
      "text/plain": [
       "      a     b     c\n",
       "1  12.0  90.0  13.0\n",
       "2  34.0   NaN  45.0\n",
       "3  45.0  89.0  35.0\n",
       "4   NaN  78.0  35.0\n",
       "5  56.0  89.0   NaN"
      ]
     },
     "execution_count": 69,
     "metadata": {},
     "output_type": "execute_result"
    }
   ],
   "source": [
    "di = {\n",
    "    \"a\" : pd.Series([12,34,45,np.nan,56],index = [1,2,3,4,5]),\n",
    "    \"b\" : pd.Series([90,89,78,89],index = [1,3,4,5]),\n",
    "    \"c\" : pd.Series([13,45,35,35],index = [1,2,3,4])\n",
    "}\n",
    "df = pd.DataFrame(di)\n",
    "df"
   ]
  },
  {
   "cell_type": "code",
   "execution_count": 70,
   "metadata": {
    "collapsed": true
   },
   "outputs": [
    {
     "data": {
      "text/plain": [
       "array([[12. , 90. , 13. ],\n",
       "       [34. , 89. , 45. ],\n",
       "       [45. , 89. , 35. ],\n",
       "       [39.5, 78. , 35. ],\n",
       "       [56. , 89. , 35. ]])"
      ]
     },
     "execution_count": 70,
     "metadata": {},
     "output_type": "execute_result"
    }
   ],
   "source": [
    "si  = SimpleImputer(strategy= \"median\")\n",
    "si.fit_transform(df)"
   ]
  },
  {
   "cell_type": "code",
   "execution_count": 73,
   "metadata": {
    "collapsed": true
   },
   "outputs": [
    {
     "data": {
      "text/plain": [
       "a    39.5\n",
       "b    89.0\n",
       "c    35.0\n",
       "dtype: float64"
      ]
     },
     "execution_count": 73,
     "metadata": {},
     "output_type": "execute_result"
    }
   ],
   "source": [
    "df.median()"
   ]
  },
  {
   "cell_type": "code",
   "execution_count": 74,
   "metadata": {
    "collapsed": true
   },
   "outputs": [
    {
     "data": {
      "text/plain": [
       "array([[12.  , 90.  , 13.  ],\n",
       "       [34.  , 86.5 , 45.  ],\n",
       "       [45.  , 89.  , 35.  ],\n",
       "       [36.75, 78.  , 35.  ],\n",
       "       [56.  , 89.  , 32.  ]])"
      ]
     },
     "execution_count": 74,
     "metadata": {},
     "output_type": "execute_result"
    }
   ],
   "source": [
    "si  = SimpleImputer(strategy= \"mean\")\n",
    "si.fit_transform(df)"
   ]
  },
  {
   "cell_type": "code",
   "execution_count": 75,
   "metadata": {
    "collapsed": true
   },
   "outputs": [
    {
     "data": {
      "text/plain": [
       "a    36.75\n",
       "b    86.50\n",
       "c    32.00\n",
       "dtype: float64"
      ]
     },
     "execution_count": 75,
     "metadata": {},
     "output_type": "execute_result"
    }
   ],
   "source": [
    "df.mean()"
   ]
  },
  {
   "cell_type": "code",
   "execution_count": 76,
   "metadata": {
    "collapsed": true
   },
   "outputs": [
    {
     "data": {
      "text/plain": [
       "array([[12., 90., 13.],\n",
       "       [34., 89., 45.],\n",
       "       [45., 89., 35.],\n",
       "       [12., 78., 35.],\n",
       "       [56., 89., 35.]])"
      ]
     },
     "execution_count": 76,
     "metadata": {},
     "output_type": "execute_result"
    }
   ],
   "source": [
    "si  = SimpleImputer(strategy= \"most_frequent\")\n",
    "si.fit_transform(df)"
   ]
  },
  {
   "cell_type": "code",
   "execution_count": 78,
   "metadata": {
    "collapsed": true
   },
   "outputs": [
    {
     "data": {
      "text/plain": [
       "array([[12., 90., 13.],\n",
       "       [34., -1., 45.],\n",
       "       [45., 89., 35.],\n",
       "       [-1., 78., 35.],\n",
       "       [56., 89., -1.]])"
      ]
     },
     "execution_count": 78,
     "metadata": {},
     "output_type": "execute_result"
    }
   ],
   "source": [
    "si  = SimpleImputer(strategy= \"constant\", fill_value = -1)\n",
    "si.fit_transform(df)"
   ]
  },
  {
   "cell_type": "markdown",
   "metadata": {},
   "source": [
    "# Task\n",
    "\n",
    "* load titanic dataset\n",
    "* clean data by using simpleimputer"
   ]
  },
  {
   "cell_type": "markdown",
   "metadata": {},
   "source": [
    "# 1.Standardizing Data"
   ]
  },
  {
   "cell_type": "code",
   "execution_count": 79,
   "metadata": {},
   "outputs": [
    {
     "data": {
      "text/html": [
       "<div>\n",
       "<style scoped>\n",
       "    .dataframe tbody tr th:only-of-type {\n",
       "        vertical-align: middle;\n",
       "    }\n",
       "\n",
       "    .dataframe tbody tr th {\n",
       "        vertical-align: top;\n",
       "    }\n",
       "\n",
       "    .dataframe thead th {\n",
       "        text-align: right;\n",
       "    }\n",
       "</style>\n",
       "<table border=\"1\" class=\"dataframe\">\n",
       "  <thead>\n",
       "    <tr style=\"text-align: right;\">\n",
       "      <th></th>\n",
       "      <th>TV</th>\n",
       "      <th>radio</th>\n",
       "      <th>newspaper</th>\n",
       "      <th>sales</th>\n",
       "    </tr>\n",
       "  </thead>\n",
       "  <tbody>\n",
       "    <tr>\n",
       "      <th>0</th>\n",
       "      <td>230.1</td>\n",
       "      <td>37.8</td>\n",
       "      <td>69.2</td>\n",
       "      <td>22.1</td>\n",
       "    </tr>\n",
       "    <tr>\n",
       "      <th>1</th>\n",
       "      <td>44.5</td>\n",
       "      <td>39.3</td>\n",
       "      <td>45.1</td>\n",
       "      <td>10.4</td>\n",
       "    </tr>\n",
       "    <tr>\n",
       "      <th>2</th>\n",
       "      <td>17.2</td>\n",
       "      <td>45.9</td>\n",
       "      <td>69.3</td>\n",
       "      <td>9.3</td>\n",
       "    </tr>\n",
       "    <tr>\n",
       "      <th>3</th>\n",
       "      <td>151.5</td>\n",
       "      <td>41.3</td>\n",
       "      <td>58.5</td>\n",
       "      <td>18.5</td>\n",
       "    </tr>\n",
       "    <tr>\n",
       "      <th>4</th>\n",
       "      <td>180.8</td>\n",
       "      <td>10.8</td>\n",
       "      <td>58.4</td>\n",
       "      <td>12.9</td>\n",
       "    </tr>\n",
       "  </tbody>\n",
       "</table>\n",
       "</div>"
      ],
      "text/plain": [
       "      TV  radio  newspaper  sales\n",
       "0  230.1   37.8       69.2   22.1\n",
       "1   44.5   39.3       45.1   10.4\n",
       "2   17.2   45.9       69.3    9.3\n",
       "3  151.5   41.3       58.5   18.5\n",
       "4  180.8   10.8       58.4   12.9"
      ]
     },
     "execution_count": 79,
     "metadata": {},
     "output_type": "execute_result"
    }
   ],
   "source": [
    "adv.head()"
   ]
  },
  {
   "cell_type": "code",
   "execution_count": 81,
   "metadata": {},
   "outputs": [
    {
     "data": {
      "image/png": "[encoded data removed]",
      "text/plain": [
       "<Figure size 432x288 with 1 Axes>"
      ]
     },
     "metadata": {
      "needs_background": "light"
     },
     "output_type": "display_data"
    }
   ],
   "source": [
    "import seaborn as sns\n",
    "sns.kdeplot(adv[\"TV\"])\n",
    "sns.kdeplot(adv[\"radio\"])\n",
    "sns.kdeplot(adv[\"newspaper\"])\n",
    "plt.show()"
   ]
  },
  {
   "cell_type": "code",
   "execution_count": 82,
   "metadata": {},
   "outputs": [
    {
     "data": {
      "text/plain": [
       "230.1"
      ]
     },
     "execution_count": 82,
     "metadata": {},
     "output_type": "execute_result"
    }
   ],
   "source": [
    "adv[\"TV\"][0]"
   ]
  },
  {
   "cell_type": "code",
   "execution_count": 85,
   "metadata": {},
   "outputs": [
    {
     "data": {
      "text/plain": [
       "0.9674245973763037"
      ]
     },
     "execution_count": 85,
     "metadata": {},
     "output_type": "execute_result"
    }
   ],
   "source": [
    "# std_data = (x-mean(x)) / std(x)\n",
    "(adv[\"TV\"][0] - adv[\"TV\"].mean()) / adv[\"TV\"].std()"
   ]
  },
  {
   "cell_type": "code",
   "execution_count": 86,
   "metadata": {},
   "outputs": [],
   "source": [
    "from sklearn.preprocessing import scale"
   ]
  },
  {
   "cell_type": "code",
   "execution_count": 87,
   "metadata": {
    "collapsed": true
   },
   "outputs": [
    {
     "data": {
      "text/plain": [
       "array([[ 9.69852266e-01,  9.81522472e-01,  1.77894547e+00,\n",
       "         1.55205313e+00],\n",
       "       [-1.19737623e+00,  1.08280781e+00,  6.69578760e-01,\n",
       "        -6.96046111e-01],\n",
       "       [-1.51615499e+00,  1.52846331e+00,  1.78354865e+00,\n",
       "        -9.07405869e-01],\n",
       "       [ 5.20496822e-02,  1.21785493e+00,  1.28640506e+00,\n",
       "         8.60330287e-01],\n",
       "       [ 3.94182198e-01, -8.41613655e-01,  1.28180188e+00,\n",
       "        -2.15683025e-01],\n",
       "       [-1.61540845e+00,  1.73103399e+00,  2.04592999e+00,\n",
       "        -1.31091086e+00],\n",
       "       [-1.04557682e+00,  6.43904671e-01, -3.24708413e-01,\n",
       "        -4.27042783e-01],\n",
       "       [-3.13436589e-01, -2.47406325e-01, -8.72486994e-01,\n",
       "        -1.58039455e-01],\n",
       "       [-1.61657614e+00, -1.42906863e+00, -1.36042422e+00,\n",
       "        -1.77205942e+00],\n",
       "       [ 6.16042873e-01, -1.39530685e+00, -4.30581584e-01,\n",
       "        -6.57617064e-01],\n",
       "       [-9.45155670e-01, -1.17923146e+00, -2.92486143e-01,\n",
       "        -1.04190753e+00],\n",
       "       [ 7.90028350e-01,  4.96973404e-02, -1.22232878e+00,\n",
       "         6.48970529e-01],\n",
       "       [-1.43908760e+00,  7.99208859e-01,  1.62704048e+00,\n",
       "        -9.26620392e-01],\n",
       "       [-5.78501712e-01, -1.05768905e+00, -1.07502697e+00,\n",
       "        -8.30547775e-01],\n",
       "       [ 6.66253447e-01,  6.50657027e-01,  7.11007392e-01,\n",
       "         9.56402904e-01],\n",
       "       [ 5.64664612e-01,  1.65000572e+00,  1.02862691e+00,\n",
       "         1.60969670e+00],\n",
       "       [-9.25304978e-01,  9.00494200e-01,  3.84117072e+00,\n",
       "        -2.92541119e-01],\n",
       "       [ 1.56887609e+00,  1.10306488e+00,  1.16211917e+00,\n",
       "         1.99398717e+00],\n",
       "       [-9.08957349e-01, -1.86635121e-01, -5.64073843e-01,\n",
       "        -5.23115400e-01],\n",
       "       [ 3.00679600e-03,  4.29449843e-02, -5.27248393e-01,\n",
       "         1.10963873e-01],\n",
       "       [ 8.33232798e-01,  2.99534513e-01,  1.05164281e+00,\n",
       "         7.64257669e-01],\n",
       "       [ 1.05509347e+00, -1.22649795e+00, -3.24708413e-01,\n",
       "        -2.92541119e-01],\n",
       "       [-1.56286250e+00, -4.97243498e-01,  8.76721921e-01,\n",
       "        -1.61834324e+00],\n",
       "       [ 9.48833887e-01, -4.29719938e-01, -2.00422516e-01,\n",
       "         2.83894584e-01],\n",
       "       [-9.89527805e-01, -7.20071247e-01, -5.64073843e-01,\n",
       "        -8.30547775e-01],\n",
       "       [ 1.35285385e+00, -1.33453565e+00, -5.08835667e-01,\n",
       "        -3.88613736e-01],\n",
       "       [-4.83714657e-02,  4.07572210e-01, -8.26455181e-01,\n",
       "         1.87821967e-01],\n",
       "       [ 1.08662104e+00, -4.43224650e-01, -3.52327501e-01,\n",
       "         3.60752677e-01],\n",
       "       [ 1.18820988e+00,  2.59020377e-01, -3.52327501e-01,\n",
       "         9.37188380e-01],\n",
       "       [-8.92609721e-01, -4.90491142e-01,  4.71641962e-01,\n",
       "        -6.76831588e-01],\n",
       "       [ 1.70316018e+00,  3.40048650e-01,  5.82118314e-01,\n",
       "         1.41755147e+00],\n",
       "       [-3.98677796e-01, -3.95958157e-01,  3.70371972e-01,\n",
       "        -4.07828260e-01],\n",
       "       [-5.82004775e-01, -1.46958277e+00, -2.55016247e-02,\n",
       "        -8.49762299e-01],\n",
       "       [ 1.38438142e+00, -2.20396901e-01, -1.39264649e+00,\n",
       "         6.48970529e-01],\n",
       "       [-5.99520091e-01, -1.47633512e+00, -1.06582061e+00,\n",
       "        -8.68976822e-01],\n",
       "       [ 1.67747105e+00, -1.29402151e+00, -1.01518562e+00,\n",
       "        -2.34897549e-01],\n",
       "       [ 1.39956136e+00,  1.38666383e+00, -1.17629696e+00,\n",
       "         2.18613240e+00],\n",
       "       [-8.44734522e-01,  1.76479577e+00,  6.97197848e-01,\n",
       "         1.30178396e-01],\n",
       "       [-1.21372386e+00,  2.32010953e-01,  2.09260624e-01,\n",
       "        -7.53689682e-01],\n",
       "       [ 9.45330823e-01,  9.74770116e-01,  6.65620024e-02,\n",
       "         1.43676599e+00],\n",
       "       [ 6.47570443e-01, -6.50927121e-02,  4.81492770e-02,\n",
       "         4.95254341e-01],\n",
       "       [ 3.49810063e-01,  6.84418807e-01,  3.74975153e-01,\n",
       "         5.91326959e-01],\n",
       "       [ 1.71133400e+00,  2.99534513e-01, -1.32359877e+00,\n",
       "         1.28304980e+00],\n",
       "       [ 6.98948705e-01, -1.00367020e+00, -1.91216154e-01,\n",
       "        -2.15683025e-01],\n",
       "       [-1.42390765e+00,  1.64487393e-01,  5.86721496e-01,\n",
       "        -1.06112206e+00],\n",
       "       [ 3.27623995e-01, -5.15880000e-02,  4.35460956e-02,\n",
       "         1.68607443e-01],\n",
       "       [-6.69581357e-01, -9.02384859e-01,  2.36879713e-01,\n",
       "        -6.57617064e-01],\n",
       "       [ 1.08428567e+00,  1.23135965e+00, -5.54867481e-01,\n",
       "         1.76341289e+00],\n",
       "       [ 9.35989321e-01, -5.03995854e-01,  8.90531465e-01,\n",
       "         1.49392920e-01],\n",
       "       [-9.35814168e-01, -7.80842451e-01,  2.87514708e-01,\n",
       "        -8.30547775e-01],\n",
       "       [ 6.16042873e-01, -1.36154507e+00,  1.86244718e-01,\n",
       "        -5.03900877e-01],\n",
       "       [-5.44638766e-01, -9.22641928e-01, -1.24074150e+00,\n",
       "        -6.38402541e-01],\n",
       "       [ 8.09879042e-01,  1.24486436e+00,  4.16403786e-01,\n",
       "         1.64812575e+00],\n",
       "       [ 4.15200577e-01,  1.54872038e+00,  1.29561142e+00,\n",
       "         1.37912242e+00],\n",
       "       [ 1.35051848e+00,  3.73810430e-01, -6.74550196e-01,\n",
       "         1.18697718e+00],\n",
       "       [ 6.05533683e-01,  1.76479577e+00,  1.35545278e+00,\n",
       "         1.85948550e+00],\n",
       "       [-1.63175608e+00,  3.26543937e-01,  4.99261050e-01,\n",
       "        -1.63755776e+00],\n",
       "       [-1.26606546e-01, -2.74415749e-01, -6.42327927e-01,\n",
       "        -1.58039455e-01],\n",
       "       [ 7.44488528e-01,  1.77830048e+00,  3.28943340e-01,\n",
       "         1.87870003e+00],\n",
       "       [ 7.43320840e-01,  4.21076922e-01, -9.78360166e-01,\n",
       "         8.41115763e-01],\n",
       "       [-1.09228433e+00, -1.43582099e+00, -4.21375221e-01,\n",
       "        -1.13798015e+00],\n",
       "       [ 1.33417085e+00,  1.31238792e+00,  1.11148417e+00,\n",
       "         1.95555812e+00],\n",
       "       [ 1.07727954e+00, -5.24252922e-01, -1.49787521e-01,\n",
       "         3.22323631e-01],\n",
       "       [-5.17781948e-01,  4.27829278e-01, -1.01978880e+00,\n",
       "        -4.32326777e-03],\n",
       "       [-1.86158622e-01,  1.31914027e+00, -7.61366196e-02,\n",
       "         7.64257669e-01],\n",
       "       [-9.11292725e-01, -9.42898996e-01, -1.36502740e+00,\n",
       "        -9.07405869e-01],\n",
       "       [-1.34917564e+00,  9.02114765e-02, -1.30518604e+00,\n",
       "        -8.68976822e-01],\n",
       "       [-9.04082253e-02, -5.91776482e-01, -9.36931533e-01,\n",
       "        -1.19610408e-01],\n",
       "       [ 1.05509347e+00,  2.86029801e-01, -9.00106083e-01,\n",
       "         9.37188380e-01],\n",
       "       [ 8.14549794e-01,  1.39341619e+00, -1.54390703e-01,\n",
       "         1.59048218e+00],\n",
       "       [ 6.07869059e-01,  4.95352838e-01,  3.74975153e-01,\n",
       "         8.21901240e-01],\n",
       "       [-4.34876116e-01, -6.05281194e-01,  5.27524584e-02,\n",
       "        -3.11755643e-01],\n",
       "       [-1.40405696e+00,  6.57409383e-01, -5.18042030e-01,\n",
       "        -1.00347849e+00],\n",
       "       [-2.06009314e-01, -1.18598381e+00,  3.43397329e-02,\n",
       "        -5.80758971e-01],\n",
       "       [ 7.74848409e-01,  9.02114765e-02, -8.03439274e-01,\n",
       "         5.72112435e-01],\n",
       "       [-1.51965805e+00,  1.37991148e+00,  2.70878810e+00,\n",
       "        -1.02269301e+00],\n",
       "       [-1.39588315e+00, -1.46283041e+00, -4.53597491e-01,\n",
       "        -1.36855443e+00],\n",
       "       [-3.09933525e-01,  3.53553362e-01, -7.52804279e-01,\n",
       "         3.41057791e-02],\n",
       "       [-1.65394214e+00,  4.48086346e-01, -9.73756984e-01,\n",
       "        -1.67598681e+00],\n",
       "       [-3.62479475e-01, -1.05093669e+00, -3.43121138e-01,\n",
       "        -5.80758971e-01],\n",
       "       [-8.24883830e-01,  2.32010953e-01, -3.79946589e-01,\n",
       "        -4.27042783e-01],\n",
       "       [ 1.08311798e+00, -1.29402151e+00,  2.92117889e-01,\n",
       "        -3.30970166e-01],\n",
       "       [-8.37728396e-01, -2.00139833e-01,  8.95779092e-02,\n",
       "        -5.23115400e-01],\n",
       "       [-9.18298852e-01,  1.43393033e+00,  2.32276531e-01,\n",
       "        -8.11813615e-02],\n",
       "       [ 7.76016097e-01,  1.33264499e+00,  1.49419267e-01,\n",
       "         1.47519504e+00],\n",
       "       [ 5.38975481e-01, -3.28434597e-01,  1.61783412e+00,\n",
       "         2.26251013e-01],\n",
       "       [-8.26051518e-01,  2.86029801e-01, -6.69947015e-01,\n",
       "        -3.88613736e-01],\n",
       "       [-4.24366926e-01,  1.17058844e+00,  1.50275459e+00,\n",
       "         3.79967201e-01],\n",
       "       [-6.85928986e-01,  1.50982681e-01,  1.97227908e+00,\n",
       "        -2.15683025e-01],\n",
       "       [-4.34876116e-01,  1.65675807e+00,  9.59579186e-01,\n",
       "         5.14468865e-01],\n",
       "       [-1.48792614e-01, -1.24000266e+00, -9.78360166e-01,\n",
       "        -5.42329924e-01],\n",
       "       [-1.38303858e+00, -1.46958277e+00,  1.12593816e-01,\n",
       "        -1.29169634e+00],\n",
       "       [ 8.25058983e-01,  6.91171163e-01,  1.30942097e+00,\n",
       "         1.03326100e+00],\n",
       "       [ 1.21273132e+00,  8.93741844e-01,  1.92164409e+00,\n",
       "         1.57126765e+00],\n",
       "       [-4.62900623e-01, -6.25538262e-01, -9.04709264e-01,\n",
       "        -4.84686354e-01],\n",
       "       [ 1.89836839e-01,  5.62876398e-01,  1.02862691e+00,\n",
       "         5.52897912e-01],\n",
       "       [ 5.90353742e-01, -1.33453565e+00, -1.13486833e+00,\n",
       "        -4.46257307e-01],\n",
       "       [ 4.42057396e-01, -1.52873340e-01, -3.93756133e-01,\n",
       "         2.83894584e-01],\n",
       "       [ 1.66579418e+00,  1.28537849e+00,  9.50372823e-01,\n",
       "         2.18613240e+00],\n",
       "       [-1.38283424e-01,  1.24486436e+00,  7.06404211e-01,\n",
       "         6.10541482e-01],\n",
       "       [ 8.79940308e-01, -1.28051680e+00,  8.85928284e-01,\n",
       "        -4.46257307e-01],\n",
       "       [ 1.74402926e+00,  8.80237132e-01,  3.23815396e+00,\n",
       "         1.87870003e+00],\n",
       "       [ 1.55486384e+00, -8.88880147e-01, -4.21375221e-01,\n",
       "         1.49392920e-01],\n",
       "       [ 4.77088029e-01, -4.09462869e-01, -5.82486569e-01,\n",
       "         1.30178396e-01],\n",
       "       [ 1.06443498e+00,  7.45190011e-01, -1.16248742e+00,\n",
       "         1.28304980e+00],\n",
       "       [-1.06755854e-01,  1.56222509e+00,  1.30942097e+00,\n",
       "         9.94831951e-01],\n",
       "       [-1.42507534e+00, -8.28108943e-01, -3.93111688e-02,\n",
       "        -1.31091086e+00],\n",
       "       [-6.61407543e-01, -1.55061104e+00, -3.38517957e-01,\n",
       "        -1.02269301e+00],\n",
       "       [-1.56403019e+00, -1.54385868e+00, -2.28041604e-01,\n",
       "        -1.67598681e+00],\n",
       "       [ 1.26527727e+00,  2.45515665e-01, -1.15328106e+00,\n",
       "         1.11011909e+00],\n",
       "       [ 9.19641692e-01, -1.01717491e+00,  1.19434143e+00,\n",
       "        -1.19610408e-01],\n",
       "       [ 1.10530405e+00,  9.95027184e-01, -3.38517957e-01,\n",
       "         1.49440956e+00],\n",
       "       [ 3.34630122e-01, -5.31005278e-01, -1.29597968e+00,\n",
       "         1.48912557e-02],\n",
       "       [ 7.30476274e-01, -1.79882765e-01, -9.13915627e-01,\n",
       "         3.60752677e-01],\n",
       "       [-8.03865450e-01,  1.58923451e+00,  1.81641536e-01,\n",
       "         1.10963873e-01],\n",
       "       [-8.40063771e-01,  7.92456503e-01,  1.01942054e+00,\n",
       "        -2.73326596e-01],\n",
       "       [-9.15759131e-02, -6.05281194e-01, -2.28041604e-01,\n",
       "        -3.50184689e-01],\n",
       "       [-8.24883830e-01, -1.51684926e+00, -7.25185191e-01,\n",
       "        -8.88191346e-01],\n",
       "       [-2.49213762e-01,  9.20751268e-01,  2.23926360e+00,\n",
       "         3.60752677e-01],\n",
       "       [-1.49046586e+00, -4.90491142e-01, -3.79946589e-01,\n",
       "        -1.42619800e+00],\n",
       "       [-6.70544700e-02,  2.38763309e-01,  7.20213755e-01,\n",
       "         2.83894584e-01],\n",
       "       [-1.49747198e+00, -1.05606848e-01,  9.13547372e-01,\n",
       "        -1.34933991e+00],\n",
       "       [ 8.98623313e-01, -1.40881156e+00, -6.88359740e-01,\n",
       "        -4.65471830e-01],\n",
       "       [-2.79573643e-01,  7.65447079e-01, -8.35661544e-01,\n",
       "         2.26251013e-01],\n",
       "       [ 9.62846140e-01,  6.10142891e-01,  2.00910454e+00,\n",
       "         1.09090457e+00],\n",
       "       [-6.98773552e-01, -7.74090095e-01, -2.14232060e-01,\n",
       "        -6.57617064e-01],\n",
       "       [-1.62591764e+00,  1.05579839e+00,  9.22753735e-01,\n",
       "        -1.42619800e+00],\n",
       "       [-7.80511695e-01, -1.57086811e+00, -9.82963347e-01,\n",
       "        -1.00347849e+00],\n",
       "       [ 8.55418865e-01,  1.73778635e+00, -1.25915423e+00,\n",
       "         2.05163074e+00],\n",
       "       [-1.02105537e+00, -7.60585383e-01,  5.77515133e-01,\n",
       "        -8.30547775e-01],\n",
       "       [-1.70882347e+00,  1.10306488e+00, -1.00597925e+00,\n",
       "        -2.38692417e+00],\n",
       "       [ 1.37971067e+00, -1.37504978e+00,  5.72911952e-01,\n",
       "        -2.54112072e-01],\n",
       "       [-1.61891151e+00,  2.65772733e-01, -1.30978922e+00,\n",
       "        -1.59912871e+00],\n",
       "       [ 8.49580427e-01,  6.91171163e-01,  6.69578760e-01,\n",
       "         1.07169004e+00],\n",
       "       [-1.28612050e+00,  1.03554132e+00,  1.61323094e+00,\n",
       "        -6.19188018e-01],\n",
       "       [-1.15300409e+00,  1.60273923e+00, -1.01518562e+00,\n",
       "        -4.65471830e-01],\n",
       "       [-1.41806922e+00,  1.06255074e+00, -9.78360166e-01,\n",
       "        -8.68976822e-01],\n",
       "       [ 1.47896413e+00,  3.80562786e-01,  1.34164324e+00,\n",
       "         1.30226433e+00],\n",
       "       [-1.21489154e+00,  1.77992105e-01, -4.62803854e-01,\n",
       "        -8.49762299e-01],\n",
       "       [ 4.42057396e-01,  1.39341619e+00, -1.32820195e+00,\n",
       "         1.28304980e+00],\n",
       "       [-8.59914463e-01, -4.22967582e-01, -8.12645637e-01,\n",
       "        -5.99973494e-01],\n",
       "       [ 5.44813920e-01,  8.19465927e-01,  2.07354907e+00,\n",
       "         9.94831951e-01],\n",
       "       [ 8.57754241e-01,  6.70914095e-01,  3.38149702e-01,\n",
       "         1.16776266e+00],\n",
       "       [-4.95595880e-01, -1.18598381e+00,  1.77038355e-01,\n",
       "        -6.96046111e-01],\n",
       "       [-5.93681653e-01, -5.71519414e-01,  3.84181516e-01,\n",
       "        -5.03900877e-01],\n",
       "       [-7.87313476e-02, -1.44257334e+00, -9.92169710e-01,\n",
       "        -7.15260635e-01],\n",
       "       [ 1.08662104e+00, -1.07794612e+00, -1.00597925e+00,\n",
       "        -1.58039455e-01],\n",
       "       [ 1.12281936e+00,  1.73778635e+00,  6.32753309e-01,\n",
       "         2.18613240e+00],\n",
       "       [-1.27327593e+00,  1.15033137e+00, -8.58677450e-01,\n",
       "        -5.99973494e-01],\n",
       "       [-1.19504085e+00,  1.71239749e-01, -4.58200672e-01,\n",
       "        -7.53689682e-01],\n",
       "       [ 1.56070228e+00, -6.32290618e-01,  2.96721070e-01,\n",
       "         3.99181724e-01],\n",
       "       [-3.04095087e-01, -1.00367020e+00,  8.35293289e-01,\n",
       "        -4.65471830e-01],\n",
       "       [ 5.90353742e-01,  2.43084817e-03, -7.52804279e-01,\n",
       "         4.95254341e-01],\n",
       "       [ 2.83251860e-01,  1.10981724e+00,  3.28943340e-01,\n",
       "         9.56402904e-01],\n",
       "       [ 4.75920341e-01, -1.46120984e-01, -9.69153803e-01,\n",
       "         3.03109107e-01],\n",
       "       [-1.66912209e+00, -7.87594807e-01, -1.14407469e+00,\n",
       "        -2.07949180e+00],\n",
       "       [-6.20538471e-01,  1.36640677e+00,  9.18150553e-01,\n",
       "         2.45465537e-01],\n",
       "       [ 3.21989902e-02, -1.48308748e+00, -2.87882962e-01,\n",
       "        -7.53689682e-01],\n",
       "       [-1.58037782e+00,  9.20751268e-01,  6.74181942e-01,\n",
       "        -1.29169634e+00],\n",
       "       [-1.79152496e-01, -3.28434597e-01,  1.86244718e-01,\n",
       "        -2.15683025e-01],\n",
       "       [ 2.97264113e-01, -3.48691665e-01,  6.72064478e-03,\n",
       "         7.25348259e-02],\n",
       "       [-7.16288868e-01,  8.46475352e-01,  8.62912377e-01,\n",
       "        -1.38824932e-01],\n",
       "       [ 4.82926468e-01, -3.48691665e-01, -2.28041604e-01,\n",
       "         1.68607443e-01],\n",
       "       [ 1.92172214e-01,  9.13998912e-01, -1.06582061e+00,\n",
       "         7.64257669e-01],\n",
       "       [-3.48467222e-01, -5.78271770e-01, -1.15788424e+00,\n",
       "        -4.07828260e-01],\n",
       "       [ 1.02123053e+00, -1.34128800e+00,  2.49704176e+00,\n",
       "        -4.07828260e-01],\n",
       "       [-1.50798117e+00,  9.68017760e-01, -4.12168859e-01,\n",
       "        -1.15719467e+00],\n",
       "       [ 6.97781017e-01, -1.21974559e+00, -5.13438849e-01,\n",
       "        -3.50184689e-01],\n",
       "       [ 7.98202165e-01,  2.26879163e-02,  1.24497643e+00,\n",
       "         5.91326959e-01],\n",
       "       [ 1.60273904e+00, -8.55118367e-01, -1.11185242e+00,\n",
       "         1.87821967e-01],\n",
       "       [-1.13315340e+00, -7.87594807e-01, -5.59470662e-01,\n",
       "        -1.08033658e+00],\n",
       "       [ 2.03849092e-01, -1.59625696e-01,  7.75451931e-01,\n",
       "         9.17493494e-02],\n",
       "       [-1.48813048e+00, -2.13644545e-01, -6.23915201e-01,\n",
       "        -1.23405277e+00],\n",
       "       [ 2.49388915e-01, -1.09145083e+00, -8.17248818e-01,\n",
       "        -4.46257307e-01],\n",
       "       [ 8.79940308e-01, -1.34128800e+00, -8.03439274e-01,\n",
       "        -4.84686354e-01],\n",
       "       [ 1.51633014e+00,  1.73103399e+00,  5.17673775e-01,\n",
       "         2.49356478e+00],\n",
       "       [ 1.18353913e+00,  4.68343414e-01, -4.72010216e-01,\n",
       "         1.18697718e+00],\n",
       "       [ 2.70407294e-01, -1.04418434e+00,  2.13863806e-01,\n",
       "        -4.46257307e-01],\n",
       "       [ 1.51399477e+00, -1.41556392e+00, -3.15502050e-01,\n",
       "        -4.27042783e-01],\n",
       "       [ 2.16693657e-01, -8.95632503e-01, -5.96296113e-01,\n",
       "        -2.73326596e-01],\n",
       "       [ 1.11601758e-01, -1.39530685e+00, -1.02439198e+00,\n",
       "        -6.76831588e-01],\n",
       "       [ 8.34400486e-01, -1.20624088e+00, -1.45184340e-01,\n",
       "        -3.50184689e-01],\n",
       "       [-1.06075676e+00, -1.18598381e+00, -3.93111688e-02,\n",
       "        -1.02269301e+00],\n",
       "       [ 1.64127273e+00,  1.33264499e+00,  1.89862818e+00,\n",
       "         2.33984859e+00],\n",
       "       [ 1.24659427e+00, -1.32616272e-01, -2.55016247e-02,\n",
       "         6.87399576e-01],\n",
       "       [ 6.76762637e-01,  1.47444446e+00, -5.04232486e-01,\n",
       "         1.64812575e+00],\n",
       "       [-8.80728498e-02, -1.42906863e+00, -1.82009791e-01,\n",
       "        -7.15260635e-01],\n",
       "       [ 5.14454038e-01,  3.67058074e-01, -5.68677025e-01,\n",
       "         6.29756005e-01],\n",
       "       [ 1.62258973e+00, -6.32290618e-01, -1.23613832e+00,\n",
       "         3.60752677e-01],\n",
       "       [-1.49863967e+00, -7.53833027e-01, -3.29311594e-01,\n",
       "        -1.40698348e+00],\n",
       "       [-1.25576062e+00,  1.20435022e+00, -1.13947151e+00,\n",
       "        -6.19188018e-01],\n",
       "       [-8.35393020e-01, -8.41613655e-01, -1.13026515e+00,\n",
       "        -7.92118728e-01],\n",
       "       [-1.51615499e+00, -1.29402151e+00,  4.81492770e-02,\n",
       "        -1.56069967e+00],\n",
       "       [ 2.30705910e-01,  1.26512143e+00, -1.24074150e+00,\n",
       "         1.07169004e+00],\n",
       "       [ 3.10313024e-02,  8.32970639e-01, -1.13026515e+00,\n",
       "         6.29756005e-01],\n",
       "       [-1.27094056e+00, -1.32103093e+00, -7.71217005e-01,\n",
       "        -1.23405277e+00],\n",
       "       [-6.17035408e-01, -1.24000266e+00, -1.03359834e+00,\n",
       "        -8.30547775e-01],\n",
       "       [ 3.49810063e-01, -9.42898996e-01, -1.11185242e+00,\n",
       "        -2.34897549e-01],\n",
       "       [ 1.59456522e+00,  1.26512143e+00,  1.64085003e+00,\n",
       "         2.20534693e+00],\n",
       "       [ 9.93206022e-01, -9.90165488e-01, -1.00597925e+00,\n",
       "        -1.19610408e-01]])"
      ]
     },
     "execution_count": 87,
     "metadata": {},
     "output_type": "execute_result"
    }
   ],
   "source": [
    "scl = scale(adv)\n",
    "scl"
   ]
  },
  {
   "cell_type": "code",
   "execution_count": 89,
   "metadata": {
    "collapsed": true
   },
   "outputs": [
    {
     "data": {
      "text/html": [
       "<div>\n",
       "<style scoped>\n",
       "    .dataframe tbody tr th:only-of-type {\n",
       "        vertical-align: middle;\n",
       "    }\n",
       "\n",
       "    .dataframe tbody tr th {\n",
       "        vertical-align: top;\n",
       "    }\n",
       "\n",
       "    .dataframe thead th {\n",
       "        text-align: right;\n",
       "    }\n",
       "</style>\n",
       "<table border=\"1\" class=\"dataframe\">\n",
       "  <thead>\n",
       "    <tr style=\"text-align: right;\">\n",
       "      <th></th>\n",
       "      <th>TV</th>\n",
       "      <th>radio</th>\n",
       "      <th>newspaper</th>\n",
       "      <th>sales</th>\n",
       "    </tr>\n",
       "  </thead>\n",
       "  <tbody>\n",
       "    <tr>\n",
       "      <th>0</th>\n",
       "      <td>0.969852</td>\n",
       "      <td>0.981522</td>\n",
       "      <td>1.778945</td>\n",
       "      <td>1.552053</td>\n",
       "    </tr>\n",
       "    <tr>\n",
       "      <th>1</th>\n",
       "      <td>-1.197376</td>\n",
       "      <td>1.082808</td>\n",
       "      <td>0.669579</td>\n",
       "      <td>-0.696046</td>\n",
       "    </tr>\n",
       "    <tr>\n",
       "      <th>2</th>\n",
       "      <td>-1.516155</td>\n",
       "      <td>1.528463</td>\n",
       "      <td>1.783549</td>\n",
       "      <td>-0.907406</td>\n",
       "    </tr>\n",
       "    <tr>\n",
       "      <th>3</th>\n",
       "      <td>0.052050</td>\n",
       "      <td>1.217855</td>\n",
       "      <td>1.286405</td>\n",
       "      <td>0.860330</td>\n",
       "    </tr>\n",
       "    <tr>\n",
       "      <th>4</th>\n",
       "      <td>0.394182</td>\n",
       "      <td>-0.841614</td>\n",
       "      <td>1.281802</td>\n",
       "      <td>-0.215683</td>\n",
       "    </tr>\n",
       "    <tr>\n",
       "      <th>...</th>\n",
       "      <td>...</td>\n",
       "      <td>...</td>\n",
       "      <td>...</td>\n",
       "      <td>...</td>\n",
       "    </tr>\n",
       "    <tr>\n",
       "      <th>195</th>\n",
       "      <td>-1.270941</td>\n",
       "      <td>-1.321031</td>\n",
       "      <td>-0.771217</td>\n",
       "      <td>-1.234053</td>\n",
       "    </tr>\n",
       "    <tr>\n",
       "      <th>196</th>\n",
       "      <td>-0.617035</td>\n",
       "      <td>-1.240003</td>\n",
       "      <td>-1.033598</td>\n",
       "      <td>-0.830548</td>\n",
       "    </tr>\n",
       "    <tr>\n",
       "      <th>197</th>\n",
       "      <td>0.349810</td>\n",
       "      <td>-0.942899</td>\n",
       "      <td>-1.111852</td>\n",
       "      <td>-0.234898</td>\n",
       "    </tr>\n",
       "    <tr>\n",
       "      <th>198</th>\n",
       "      <td>1.594565</td>\n",
       "      <td>1.265121</td>\n",
       "      <td>1.640850</td>\n",
       "      <td>2.205347</td>\n",
       "    </tr>\n",
       "    <tr>\n",
       "      <th>199</th>\n",
       "      <td>0.993206</td>\n",
       "      <td>-0.990165</td>\n",
       "      <td>-1.005979</td>\n",
       "      <td>-0.119610</td>\n",
       "    </tr>\n",
       "  </tbody>\n",
       "</table>\n",
       "<p>200 rows × 4 columns</p>\n",
       "</div>"
      ],
      "text/plain": [
       "           TV     radio  newspaper     sales\n",
       "0    0.969852  0.981522   1.778945  1.552053\n",
       "1   -1.197376  1.082808   0.669579 -0.696046\n",
       "2   -1.516155  1.528463   1.783549 -0.907406\n",
       "3    0.052050  1.217855   1.286405  0.860330\n",
       "4    0.394182 -0.841614   1.281802 -0.215683\n",
       "..        ...       ...        ...       ...\n",
       "195 -1.270941 -1.321031  -0.771217 -1.234053\n",
       "196 -0.617035 -1.240003  -1.033598 -0.830548\n",
       "197  0.349810 -0.942899  -1.111852 -0.234898\n",
       "198  1.594565  1.265121   1.640850  2.205347\n",
       "199  0.993206 -0.990165  -1.005979 -0.119610\n",
       "\n",
       "[200 rows x 4 columns]"
      ]
     },
     "execution_count": 89,
     "metadata": {},
     "output_type": "execute_result"
    }
   ],
   "source": [
    "scl_data = pd.DataFrame(scl,columns = adv.columns)\n",
    "scl_data"
   ]
  },
  {
   "cell_type": "code",
   "execution_count": 90,
   "metadata": {},
   "outputs": [
    {
     "data": {
      "image/png": "[encoded data removed]",
      "text/plain": [
       "<Figure size 432x288 with 1 Axes>"
      ]
     },
     "metadata": {
      "needs_background": "light"
     },
     "output_type": "display_data"
    }
   ],
   "source": [
    "sns.kdeplot(scl_data[\"TV\"])\n",
    "sns.kdeplot(scl_data[\"radio\"])\n",
    "sns.kdeplot(scl_data[\"newspaper\"])\n",
    "plt.show()"
   ]
  },
  {
   "cell_type": "code",
   "execution_count": 91,
   "metadata": {
    "collapsed": true
   },
   "outputs": [
    {
     "data": {
      "text/plain": [
       "TV           147.0425\n",
       "radio         23.2640\n",
       "newspaper     30.5540\n",
       "sales         14.0225\n",
       "dtype: float64"
      ]
     },
     "execution_count": 91,
     "metadata": {},
     "output_type": "execute_result"
    }
   ],
   "source": [
    "adv.mean()"
   ]
  },
  {
   "cell_type": "code",
   "execution_count": 92,
   "metadata": {
    "collapsed": true
   },
   "outputs": [
    {
     "data": {
      "text/plain": [
       "TV           85.854236\n",
       "radio        14.846809\n",
       "newspaper    21.778621\n",
       "sales         5.217457\n",
       "dtype: float64"
      ]
     },
     "execution_count": 92,
     "metadata": {},
     "output_type": "execute_result"
    }
   ],
   "source": [
    "adv.std()"
   ]
  },
  {
   "cell_type": "code",
   "execution_count": 94,
   "metadata": {
    "collapsed": true
   },
   "outputs": [
    {
     "data": {
      "text/plain": [
       "TV           0.0\n",
       "radio       -0.0\n",
       "newspaper    0.0\n",
       "sales       -0.0\n",
       "dtype: float64"
      ]
     },
     "execution_count": 94,
     "metadata": {},
     "output_type": "execute_result"
    }
   ],
   "source": [
    "scl_data.mean().round(3)"
   ]
  },
  {
   "cell_type": "code",
   "execution_count": 95,
   "metadata": {
    "collapsed": true
   },
   "outputs": [
    {
     "data": {
      "text/plain": [
       "TV           1.003\n",
       "radio        1.003\n",
       "newspaper    1.003\n",
       "sales        1.003\n",
       "dtype: float64"
      ]
     },
     "execution_count": 95,
     "metadata": {},
     "output_type": "execute_result"
    }
   ],
   "source": [
    "scl_data.std().round(3)"
   ]
  },
  {
   "cell_type": "markdown",
   "metadata": {},
   "source": [
    "# Data range"
   ]
  },
  {
   "cell_type": "code",
   "execution_count": 96,
   "metadata": {
    "collapsed": true
   },
   "outputs": [
    {
     "data": {
      "text/html": [
       "<div>\n",
       "<style scoped>\n",
       "    .dataframe tbody tr th:only-of-type {\n",
       "        vertical-align: middle;\n",
       "    }\n",
       "\n",
       "    .dataframe tbody tr th {\n",
       "        vertical-align: top;\n",
       "    }\n",
       "\n",
       "    .dataframe thead th {\n",
       "        text-align: right;\n",
       "    }\n",
       "</style>\n",
       "<table border=\"1\" class=\"dataframe\">\n",
       "  <thead>\n",
       "    <tr style=\"text-align: right;\">\n",
       "      <th></th>\n",
       "      <th>TV</th>\n",
       "      <th>radio</th>\n",
       "      <th>newspaper</th>\n",
       "      <th>sales</th>\n",
       "    </tr>\n",
       "  </thead>\n",
       "  <tbody>\n",
       "    <tr>\n",
       "      <th>0</th>\n",
       "      <td>230.1</td>\n",
       "      <td>37.8</td>\n",
       "      <td>69.2</td>\n",
       "      <td>22.1</td>\n",
       "    </tr>\n",
       "    <tr>\n",
       "      <th>1</th>\n",
       "      <td>44.5</td>\n",
       "      <td>39.3</td>\n",
       "      <td>45.1</td>\n",
       "      <td>10.4</td>\n",
       "    </tr>\n",
       "    <tr>\n",
       "      <th>2</th>\n",
       "      <td>17.2</td>\n",
       "      <td>45.9</td>\n",
       "      <td>69.3</td>\n",
       "      <td>9.3</td>\n",
       "    </tr>\n",
       "    <tr>\n",
       "      <th>3</th>\n",
       "      <td>151.5</td>\n",
       "      <td>41.3</td>\n",
       "      <td>58.5</td>\n",
       "      <td>18.5</td>\n",
       "    </tr>\n",
       "    <tr>\n",
       "      <th>4</th>\n",
       "      <td>180.8</td>\n",
       "      <td>10.8</td>\n",
       "      <td>58.4</td>\n",
       "      <td>12.9</td>\n",
       "    </tr>\n",
       "  </tbody>\n",
       "</table>\n",
       "</div>"
      ],
      "text/plain": [
       "      TV  radio  newspaper  sales\n",
       "0  230.1   37.8       69.2   22.1\n",
       "1   44.5   39.3       45.1   10.4\n",
       "2   17.2   45.9       69.3    9.3\n",
       "3  151.5   41.3       58.5   18.5\n",
       "4  180.8   10.8       58.4   12.9"
      ]
     },
     "execution_count": 96,
     "metadata": {},
     "output_type": "execute_result"
    }
   ],
   "source": [
    "adv.head()"
   ]
  },
  {
   "cell_type": "code",
   "execution_count": 97,
   "metadata": {},
   "outputs": [],
   "source": [
    "from sklearn.preprocessing import MinMaxScaler"
   ]
  },
  {
   "cell_type": "code",
   "execution_count": 98,
   "metadata": {},
   "outputs": [],
   "source": [
    "mnscl = MinMaxScaler()"
   ]
  },
  {
   "cell_type": "code",
   "execution_count": 101,
   "metadata": {},
   "outputs": [],
   "source": [
    "mnscale  = mnscl.fit_transform(adv)"
   ]
  },
  {
   "cell_type": "code",
   "execution_count": 102,
   "metadata": {},
   "outputs": [
    {
     "data": {
      "text/plain": [
       "0.0"
      ]
     },
     "execution_count": 102,
     "metadata": {},
     "output_type": "execute_result"
    }
   ],
   "source": [
    "mnscale.min()"
   ]
  },
  {
   "cell_type": "code",
   "execution_count": 103,
   "metadata": {},
   "outputs": [
    {
     "data": {
      "text/plain": [
       "1.0"
      ]
     },
     "execution_count": 103,
     "metadata": {},
     "output_type": "execute_result"
    }
   ],
   "source": [
    "mnscale.max()"
   ]
  },
  {
   "cell_type": "code",
   "execution_count": 104,
   "metadata": {
    "collapsed": true
   },
   "outputs": [
    {
     "data": {
      "text/plain": [
       "TV           0.7\n",
       "radio        0.0\n",
       "newspaper    0.3\n",
       "sales        1.6\n",
       "dtype: float64"
      ]
     },
     "execution_count": 104,
     "metadata": {},
     "output_type": "execute_result"
    }
   ],
   "source": [
    "adv.min()"
   ]
  },
  {
   "cell_type": "code",
   "execution_count": 105,
   "metadata": {
    "collapsed": true
   },
   "outputs": [
    {
     "data": {
      "text/plain": [
       "TV           296.4\n",
       "radio         49.6\n",
       "newspaper    114.0\n",
       "sales         27.0\n",
       "dtype: float64"
      ]
     },
     "execution_count": 105,
     "metadata": {},
     "output_type": "execute_result"
    }
   ],
   "source": [
    "adv.max()"
   ]
  },
  {
   "cell_type": "code",
   "execution_count": 106,
   "metadata": {},
   "outputs": [
    {
     "data": {
      "text/plain": [
       "MinMaxScaler()"
      ]
     },
     "execution_count": 106,
     "metadata": {},
     "output_type": "execute_result"
    }
   ],
   "source": [
    "mnscl.fit(adv)"
   ]
  },
  {
   "cell_type": "markdown",
   "metadata": {},
   "source": [
    "# Normalizing Data"
   ]
  },
  {
   "cell_type": "code",
   "execution_count": 107,
   "metadata": {
    "collapsed": true
   },
   "outputs": [
    {
     "data": {
      "text/html": [
       "<div>\n",
       "<style scoped>\n",
       "    .dataframe tbody tr th:only-of-type {\n",
       "        vertical-align: middle;\n",
       "    }\n",
       "\n",
       "    .dataframe tbody tr th {\n",
       "        vertical-align: top;\n",
       "    }\n",
       "\n",
       "    .dataframe thead th {\n",
       "        text-align: right;\n",
       "    }\n",
       "</style>\n",
       "<table border=\"1\" class=\"dataframe\">\n",
       "  <thead>\n",
       "    <tr style=\"text-align: right;\">\n",
       "      <th></th>\n",
       "      <th>Age</th>\n",
       "      <th>EstimatedSalary</th>\n",
       "      <th>Purchased</th>\n",
       "    </tr>\n",
       "  </thead>\n",
       "  <tbody>\n",
       "    <tr>\n",
       "      <th>0</th>\n",
       "      <td>19</td>\n",
       "      <td>19000</td>\n",
       "      <td>0</td>\n",
       "    </tr>\n",
       "    <tr>\n",
       "      <th>1</th>\n",
       "      <td>35</td>\n",
       "      <td>20000</td>\n",
       "      <td>0</td>\n",
       "    </tr>\n",
       "    <tr>\n",
       "      <th>2</th>\n",
       "      <td>26</td>\n",
       "      <td>43000</td>\n",
       "      <td>0</td>\n",
       "    </tr>\n",
       "    <tr>\n",
       "      <th>3</th>\n",
       "      <td>27</td>\n",
       "      <td>57000</td>\n",
       "      <td>0</td>\n",
       "    </tr>\n",
       "    <tr>\n",
       "      <th>4</th>\n",
       "      <td>19</td>\n",
       "      <td>76000</td>\n",
       "      <td>0</td>\n",
       "    </tr>\n",
       "  </tbody>\n",
       "</table>\n",
       "</div>"
      ],
      "text/plain": [
       "   Age  EstimatedSalary  Purchased\n",
       "0   19            19000          0\n",
       "1   35            20000          0\n",
       "2   26            43000          0\n",
       "3   27            57000          0\n",
       "4   19            76000          0"
      ]
     },
     "execution_count": 107,
     "metadata": {},
     "output_type": "execute_result"
    }
   ],
   "source": [
    "home = pd.read_csv(\"https://raw.githubusercontent.com/APSSDC-Data-Analysis/DataAnalysisBatch-6/main/08-10-2020(Day-4)/Datasets/HomeBuyer.csv\")\n",
    "home.head()"
   ]
  },
  {
   "cell_type": "code",
   "execution_count": 108,
   "metadata": {},
   "outputs": [],
   "source": [
    "from sklearn.preprocessing import Normalizer\n"
   ]
  },
  {
   "cell_type": "code",
   "execution_count": 109,
   "metadata": {},
   "outputs": [],
   "source": [
    "norm = Normalizer()"
   ]
  },
  {
   "cell_type": "code",
   "execution_count": 112,
   "metadata": {},
   "outputs": [],
   "source": [
    "nor_data = norm.fit_transform(home)"
   ]
  },
  {
   "cell_type": "code",
   "execution_count": 113,
   "metadata": {},
   "outputs": [
    {
     "data": {
      "text/plain": [
       "0.0"
      ]
     },
     "execution_count": 113,
     "metadata": {},
     "output_type": "execute_result"
    }
   ],
   "source": [
    "nor_data.min()"
   ]
  },
  {
   "cell_type": "code",
   "execution_count": 114,
   "metadata": {},
   "outputs": [
    {
     "data": {
      "text/plain": [
       "0.9999999807797668"
      ]
     },
     "execution_count": 114,
     "metadata": {},
     "output_type": "execute_result"
    }
   ],
   "source": [
    "nor_data.max()"
   ]
  },
  {
   "cell_type": "markdown",
   "metadata": {},
   "source": [
    "# Robust scaling "
   ]
  },
  {
   "cell_type": "code",
   "execution_count": 115,
   "metadata": {
    "collapsed": true
   },
   "outputs": [
    {
     "data": {
      "text/html": [
       "<div>\n",
       "<style scoped>\n",
       "    .dataframe tbody tr th:only-of-type {\n",
       "        vertical-align: middle;\n",
       "    }\n",
       "\n",
       "    .dataframe tbody tr th {\n",
       "        vertical-align: top;\n",
       "    }\n",
       "\n",
       "    .dataframe thead th {\n",
       "        text-align: right;\n",
       "    }\n",
       "</style>\n",
       "<table border=\"1\" class=\"dataframe\">\n",
       "  <thead>\n",
       "    <tr style=\"text-align: right;\">\n",
       "      <th></th>\n",
       "      <th>TV</th>\n",
       "      <th>radio</th>\n",
       "      <th>newspaper</th>\n",
       "      <th>sales</th>\n",
       "    </tr>\n",
       "  </thead>\n",
       "  <tbody>\n",
       "    <tr>\n",
       "      <th>0</th>\n",
       "      <td>230.1</td>\n",
       "      <td>37.8</td>\n",
       "      <td>69.2</td>\n",
       "      <td>22.1</td>\n",
       "    </tr>\n",
       "    <tr>\n",
       "      <th>1</th>\n",
       "      <td>44.5</td>\n",
       "      <td>39.3</td>\n",
       "      <td>45.1</td>\n",
       "      <td>10.4</td>\n",
       "    </tr>\n",
       "    <tr>\n",
       "      <th>2</th>\n",
       "      <td>17.2</td>\n",
       "      <td>45.9</td>\n",
       "      <td>69.3</td>\n",
       "      <td>9.3</td>\n",
       "    </tr>\n",
       "    <tr>\n",
       "      <th>3</th>\n",
       "      <td>151.5</td>\n",
       "      <td>41.3</td>\n",
       "      <td>58.5</td>\n",
       "      <td>18.5</td>\n",
       "    </tr>\n",
       "    <tr>\n",
       "      <th>4</th>\n",
       "      <td>180.8</td>\n",
       "      <td>10.8</td>\n",
       "      <td>58.4</td>\n",
       "      <td>12.9</td>\n",
       "    </tr>\n",
       "  </tbody>\n",
       "</table>\n",
       "</div>"
      ],
      "text/plain": [
       "      TV  radio  newspaper  sales\n",
       "0  230.1   37.8       69.2   22.1\n",
       "1   44.5   39.3       45.1   10.4\n",
       "2   17.2   45.9       69.3    9.3\n",
       "3  151.5   41.3       58.5   18.5\n",
       "4  180.8   10.8       58.4   12.9"
      ]
     },
     "execution_count": 115,
     "metadata": {},
     "output_type": "execute_result"
    }
   ],
   "source": [
    "adv.head()"
   ]
  },
  {
   "cell_type": "code",
   "execution_count": 116,
   "metadata": {},
   "outputs": [],
   "source": [
    "from sklearn.preprocessing import RobustScaler"
   ]
  },
  {
   "cell_type": "code",
   "execution_count": 117,
   "metadata": {},
   "outputs": [],
   "source": [
    "rscl = RobustScaler()"
   ]
  },
  {
   "cell_type": "code",
   "execution_count": 120,
   "metadata": {},
   "outputs": [],
   "source": [
    "rscl = rscl.fit_transform(adv)"
   ]
  },
  {
   "cell_type": "code",
   "execution_count": 123,
   "metadata": {
    "collapsed": true
   },
   "outputs": [
    {
     "data": {
      "text/html": [
       "<div>\n",
       "<style scoped>\n",
       "    .dataframe tbody tr th:only-of-type {\n",
       "        vertical-align: middle;\n",
       "    }\n",
       "\n",
       "    .dataframe tbody tr th {\n",
       "        vertical-align: top;\n",
       "    }\n",
       "\n",
       "    .dataframe thead th {\n",
       "        text-align: right;\n",
       "    }\n",
       "</style>\n",
       "<table border=\"1\" class=\"dataframe\">\n",
       "  <thead>\n",
       "    <tr style=\"text-align: right;\">\n",
       "      <th></th>\n",
       "      <th>TV</th>\n",
       "      <th>radio</th>\n",
       "      <th>newspaper</th>\n",
       "      <th>sales</th>\n",
       "    </tr>\n",
       "  </thead>\n",
       "  <tbody>\n",
       "    <tr>\n",
       "      <th>0</th>\n",
       "      <td>0.556248</td>\n",
       "      <td>0.561205</td>\n",
       "      <td>1.343122</td>\n",
       "      <td>1.309609</td>\n",
       "    </tr>\n",
       "    <tr>\n",
       "      <th>1</th>\n",
       "      <td>-0.728626</td>\n",
       "      <td>0.617702</td>\n",
       "      <td>0.598145</td>\n",
       "      <td>-0.355872</td>\n",
       "    </tr>\n",
       "    <tr>\n",
       "      <th>2</th>\n",
       "      <td>-0.917619</td>\n",
       "      <td>0.866290</td>\n",
       "      <td>1.346213</td>\n",
       "      <td>-0.512456</td>\n",
       "    </tr>\n",
       "    <tr>\n",
       "      <th>3</th>\n",
       "      <td>0.012115</td>\n",
       "      <td>0.693032</td>\n",
       "      <td>1.012365</td>\n",
       "      <td>0.797153</td>\n",
       "    </tr>\n",
       "    <tr>\n",
       "      <th>4</th>\n",
       "      <td>0.214953</td>\n",
       "      <td>-0.455744</td>\n",
       "      <td>1.009274</td>\n",
       "      <td>0.000000</td>\n",
       "    </tr>\n",
       "    <tr>\n",
       "      <th>...</th>\n",
       "      <td>...</td>\n",
       "      <td>...</td>\n",
       "      <td>...</td>\n",
       "      <td>...</td>\n",
       "    </tr>\n",
       "    <tr>\n",
       "      <th>195</th>\n",
       "      <td>-0.772240</td>\n",
       "      <td>-0.723164</td>\n",
       "      <td>-0.369397</td>\n",
       "      <td>-0.754448</td>\n",
       "    </tr>\n",
       "    <tr>\n",
       "      <th>196</th>\n",
       "      <td>-0.384562</td>\n",
       "      <td>-0.677966</td>\n",
       "      <td>-0.545595</td>\n",
       "      <td>-0.455516</td>\n",
       "    </tr>\n",
       "    <tr>\n",
       "      <th>197</th>\n",
       "      <td>0.188647</td>\n",
       "      <td>-0.512241</td>\n",
       "      <td>-0.598145</td>\n",
       "      <td>-0.014235</td>\n",
       "    </tr>\n",
       "    <tr>\n",
       "      <th>198</th>\n",
       "      <td>0.926618</td>\n",
       "      <td>0.719397</td>\n",
       "      <td>1.250386</td>\n",
       "      <td>1.793594</td>\n",
       "    </tr>\n",
       "    <tr>\n",
       "      <th>199</th>\n",
       "      <td>0.570093</td>\n",
       "      <td>-0.538606</td>\n",
       "      <td>-0.527048</td>\n",
       "      <td>0.071174</td>\n",
       "    </tr>\n",
       "  </tbody>\n",
       "</table>\n",
       "<p>200 rows × 4 columns</p>\n",
       "</div>"
      ],
      "text/plain": [
       "           TV     radio  newspaper     sales\n",
       "0    0.556248  0.561205   1.343122  1.309609\n",
       "1   -0.728626  0.617702   0.598145 -0.355872\n",
       "2   -0.917619  0.866290   1.346213 -0.512456\n",
       "3    0.012115  0.693032   1.012365  0.797153\n",
       "4    0.214953 -0.455744   1.009274  0.000000\n",
       "..        ...       ...        ...       ...\n",
       "195 -0.772240 -0.723164  -0.369397 -0.754448\n",
       "196 -0.384562 -0.677966  -0.545595 -0.455516\n",
       "197  0.188647 -0.512241  -0.598145 -0.014235\n",
       "198  0.926618  0.719397   1.250386  1.793594\n",
       "199  0.570093 -0.538606  -0.527048  0.071174\n",
       "\n",
       "[200 rows x 4 columns]"
      ]
     },
     "execution_count": 123,
     "metadata": {},
     "output_type": "execute_result"
    }
   ],
   "source": [
    "rscl_data = pd.DataFrame(rscl,columns = adv.columns)\n",
    "rscl_data"
   ]
  },
  {
   "cell_type": "code",
   "execution_count": 124,
   "metadata": {
    "collapsed": true
   },
   "outputs": [
    {
     "data": {
      "image/png": "[encoded data removed]",
      "text/plain": [
       "<Figure size 432x288 with 1 Axes>"
      ]
     },
     "metadata": {
      "needs_background": "light"
     },
     "output_type": "display_data"
    }
   ],
   "source": [
    "sns.kdeplot(rscl_data[\"TV\"])\n",
    "sns.kdeplot(rscl_data[\"radio\"])\n",
    "sns.kdeplot(rscl_data[\"newspaper\"])\n",
    "plt.show()"
   ]
  },
  {
   "cell_type": "code",
   "execution_count": null,
   "metadata": {},
   "outputs": [],
   "source": []
  }
 ],
 "metadata": {
  "kernelspec": {
   "display_name": "Python 3",
   "language": "python",
   "name": "python3"
  },
  "language_info": {
   "codemirror_mode": {
    "name": "ipython",
    "version": 3
   },
   "file_extension": ".py",
   "mimetype": "text/x-python",
   "name": "python",
   "nbconvert_exporter": "python",
   "pygments_lexer": "ipython3",
   "version": "3.8.3"
  }
 },
 "nbformat": 4,
 "nbformat_minor": 4
}
