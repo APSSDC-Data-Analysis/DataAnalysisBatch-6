{
 "cells": [
  {
   "cell_type": "markdown",
   "metadata": {},
   "source": [
    "## Day8\n",
    "### Matplotlib Contin...\n",
    "- Boxplot\n",
    "- Hisogram\n",
    "- Pie Chart\n",
    "- Area Plot\n",
    "\n",
    "### Seaborn\n",
    "- Introduction"
   ]
  },
  {
   "cell_type": "code",
   "execution_count": 1,
   "metadata": {},
   "outputs": [],
   "source": [
    "import matplotlib.pyplot as plt"
   ]
  },
  {
   "cell_type": "markdown",
   "metadata": {},
   "source": [
    "### 1. Boxplot\n",
    "- It gives a summary of numerical data through qurtiles.\n",
    "    - min\n",
    "    - Inter Quartile Range(IQR)\n",
    "        - lower quartile(25%)\n",
    "        - mediun (50%)\n",
    "        - upper quartile(75%)\n",
    "    - max\n",
    "- plt.boxplot()"
   ]
  },
  {
   "cell_type": "code",
   "execution_count": 2,
   "metadata": {},
   "outputs": [],
   "source": [
    "import numpy as np"
   ]
  },
  {
   "cell_type": "code",
   "execution_count": 3,
   "metadata": {
    "collapsed": true
   },
   "outputs": [
    {
     "data": {
      "text/plain": [
       "array([7090,  368, 1898, 5216, 9125, 1520, 4920, 4861, 7530, 8371,   12,\n",
       "        863, 5087, 6352, 4502,  427, 9588, 2921, 1841, 2222, 3586, 3199,\n",
       "       3478, 4983, 6331, 9200, 5468, 3217, 2073,   14, 4789, 9794, 2391,\n",
       "       3603, 6887, 7123, 2202, 7678, 1749, 8481, 3983, 6288, 3533,  482,\n",
       "       8738, 9739,  739, 1817, 4930, 5518, 2879, 2667, 4285, 5112, 4969,\n",
       "       8840, 3945, 4488, 9807, 6057, 5352, 6647, 2443, 7185, 5202, 7620,\n",
       "       5490, 7956, 1879, 5046, 9335, 8831, 9606, 3127, 9698, 3522, 8875,\n",
       "       9358, 3586, 1924,  425, 3398, 5358, 4376, 7107, 8503,   92, 8545,\n",
       "       4648, 6477, 6443, 8096, 1053,  157, 9736, 2665, 2765, 5247,  247,\n",
       "       3677, 2008, 2164,  251, 9658, 9441, 1328, 7491,  816, 9673, 8399,\n",
       "       3308, 8615, 9472, 4258, 5857, 3840, 2742, 2993, 4068, 1822, 3910,\n",
       "       9422, 1648,  208, 4302, 6250, 8379, 4231, 3773, 6750, 8245, 7021,\n",
       "       7729, 5129, 3932, 6329, 2428,  110,  546, 6626, 8708, 1138, 9943,\n",
       "       6753, 6829, 2614, 7839, 4382, 9634, 4982, 7742, 8884, 5923, 5897,\n",
       "       2157, 1926, 9692, 2326,  748, 3164, 5795, 2089, 2060, 1119, 3992,\n",
       "       9239, 8627, 1700, 8182, 4480, 4094, 9339, 2571,  649, 8913, 2769,\n",
       "       2571, 7973, 7964, 9900, 9069, 8174, 3649, 1746, 7972,  915, 6762,\n",
       "       8559, 1483, 9386, 9616, 1687, 3830, 7316, 2513, 1744, 5249,    0,\n",
       "       5545, 1232,  962, 2135, 4729, 7998, 3554, 2370, 2668,  150, 8253,\n",
       "       7694, 8534, 2762, 7501, 3145,  551, 5759, 6626, 3279, 9810, 1914,\n",
       "       5405, 6454, 9345, 4798, 2077, 9862, 9258, 5017, 4649, 3540, 8344,\n",
       "       8704, 8408, 8405, 4696, 9905, 2648, 4526, 9876, 3905,  541, 9494,\n",
       "       2156, 4440, 2144, 7580, 2781, 4472, 2263, 9771, 8369, 5166, 3278,\n",
       "       7964, 8574, 3644, 6047, 7964, 1762, 1722, 4010, 5007, 2303, 3915,\n",
       "       5117, 7553, 4996, 3254, 5113, 7047, 2172,  876, 1266, 9727, 6990,\n",
       "       7867, 8708, 6768, 1042, 2557, 7917, 7422,  971, 4279, 9413, 4129,\n",
       "       2104, 5084, 9561, 9969, 9495, 9404, 5127, 8362,  812,  155, 2170,\n",
       "       2964, 6776, 1416, 2444, 5431, 5836, 2552, 6318, 4488, 2242, 3249,\n",
       "       9207, 2973, 8074, 6163, 1928, 1029, 4612, 9273, 9414, 4318, 4051,\n",
       "       2419, 4523, 5687,  482, 1103,  674, 4845, 1183, 2207,   83,  206,\n",
       "       1511, 6550, 3055, 5846, 6569, 1139, 7607, 7840, 9221, 6897, 2519,\n",
       "       3865, 3697, 5544, 2049,   94, 1089, 5951, 6906, 9935, 3240, 5397,\n",
       "       3093, 3905, 5899, 5198, 5892, 6905, 1560, 8450, 7769,  540, 5031,\n",
       "         76, 6271,  127, 9529, 2564, 9203, 7534, 6168, 1912, 6822, 9121,\n",
       "       2577, 5421, 1886,  385, 9219, 3804, 8383, 8845, 5488, 4464, 5611,\n",
       "       6401, 5545,  671,  175, 7275, 6855, 8108, 1360, 6742, 7220, 1361,\n",
       "       4353, 2925, 5326, 4739, 8714, 1094, 8540, 2977, 5923, 1737, 5151,\n",
       "       4454, 6894, 6177, 3940,  349, 3294, 5955, 7805, 8707, 6361, 3596,\n",
       "       5578, 1905, 1125,  466, 7816, 9637,  902, 6560,  911, 7839, 4556,\n",
       "       1095,  349, 5039, 5041, 6647, 6719, 4212, 6456,   30, 9636, 8581,\n",
       "       1137, 8299, 6490, 2100, 4319, 3457, 9925, 7283, 9237, 7602, 8049,\n",
       "       5724, 6101, 6992, 2336, 7124, 5583, 5244, 7036, 6686, 8610, 7843,\n",
       "       8616, 8317, 7186, 4439,  680,  637, 9905, 4333, 1806, 5322,  672,\n",
       "       2099, 3375, 7910, 1018, 6645, 7680, 7732, 9073, 6444, 5315, 1878,\n",
       "       7003,  192, 7908, 5846, 7917,  785, 2001, 4903, 3924, 9921, 5518,\n",
       "       2678, 6832, 7887, 4570, 8334, 7695, 3033, 6208, 4307, 1106, 6206,\n",
       "        560, 8419, 4940, 2509, 1952, 9638, 6641,  987, 2874, 2434, 5462,\n",
       "       1718,  714, 9446, 5848, 4044, 6245, 9669,  798, 4110, 1846, 4476,\n",
       "        127, 6957, 6356, 3395, 8492, 9203, 4670, 5142, 4504, 1738,  975,\n",
       "         31, 3770, 9157, 8571, 4860, 4693, 9099, 4786, 6257, 6124, 3523,\n",
       "       2877, 8952, 3426, 1282, 5451, 5605, 9401, 2897, 9553, 7479, 6954,\n",
       "       1926,  626, 7132, 1510, 1581, 9406, 8725, 4596, 8840, 2559, 3991,\n",
       "       7699, 4582, 9436, 7033, 7476, 7860, 9779, 5040, 4695, 3664, 9580,\n",
       "       4240, 6911, 3230,  946, 7506, 3012, 9179, 4023, 8482, 6393, 2832,\n",
       "       9687, 7007, 7037, 9245, 3015, 1881, 9563,  430, 9580,  290, 5087,\n",
       "       4849, 2121, 6364, 6880, 5233, 3716, 9101, 3711, 1810, 7723, 8869,\n",
       "       9467, 2144, 1791, 1680, 1041, 8599, 6046, 9356,  710, 5849, 5682,\n",
       "       3457, 8350, 6545, 4209, 2775, 8526, 8512, 5850, 3685, 9298, 1956,\n",
       "       3931, 6883, 1700, 1699, 7694, 3002, 1284, 5909, 5445, 1141, 7164,\n",
       "       1948, 8800,  692, 8085, 5097, 8051,  669, 5688,  831, 3408, 2344,\n",
       "       1225, 3407, 9654, 8341, 5893, 3056, 3470, 5166, 6321, 9113, 4623,\n",
       "       8911,  655, 8965, 9235, 7217, 6117, 1207, 9510, 9387,  416, 7555,\n",
       "        545, 9601, 4969, 7368, 9632, 4066, 5777, 3961, 3534, 6496, 8419,\n",
       "       6396, 2851, 3518, 6844, 2873, 6142, 6555, 9170, 4642, 7972, 6500,\n",
       "       8410, 8973, 6814, 9689, 3120, 7780, 7400, 9805,  705, 7326, 5483,\n",
       "       2745, 2797,  783, 3341, 3095, 1332, 5704, 1004,  782, 2325, 6294,\n",
       "        525,  713, 7881, 1550, 7098,  370, 1150, 2625, 2864, 6914, 7788,\n",
       "       4924, 1789, 6065, 4746, 9959, 5952, 8259, 6145, 2747, 8671, 8760,\n",
       "       6117, 5637, 5116,  710, 8226, 5884,   68,  459, 4963,    5, 4813,\n",
       "       4106, 8506, 4407, 6584, 9799, 5620, 6750, 9748, 2090, 7778, 5811,\n",
       "       3475, 5615, 3976,  100,  558, 4744, 6655, 8617, 4374, 7349, 2305,\n",
       "       5538, 1199, 6774, 1515, 6990, 8780, 2307, 7366, 8520, 9428, 3949,\n",
       "        395, 3936, 7274, 2925, 5908, 8815, 1566,   75, 1579,  493, 2489,\n",
       "       1220, 2491, 7445, 3460, 1257, 1727, 2859, 6674, 9868, 6870, 7858,\n",
       "       9203, 8886, 1511, 1169, 1929, 1097, 6904, 7292, 1265, 9803, 6261,\n",
       "       9800, 6629, 3510, 4824,  637,  510, 8466, 8368,  421, 9463, 3224,\n",
       "       3974, 3555, 5222, 3559, 4193, 8778,  227, 9651, 2067, 2269, 4631,\n",
       "       6080, 8412, 9304, 2942, 3695, 5810, 4733, 8532, 3329, 4933,  524,\n",
       "       2250,  273, 4179, 7200,  707, 5880, 4164, 3843, 8433, 9102, 8748,\n",
       "       1621, 8863, 3643,  265, 1325, 7804, 4475,  328, 9952, 2152, 3580,\n",
       "       6760, 7775, 1799, 3940, 6902, 6985, 8183, 4653, 4164, 8729, 8876,\n",
       "       7734, 4768, 4699, 2203, 3690, 9589, 8130, 2349, 4210, 1842, 8429,\n",
       "       4952, 1352, 5346, 7641, 2270, 3242, 1176, 2660, 5452, 7454, 4500,\n",
       "       5858, 9163, 1828, 3686, 6034, 3604, 8782, 7870, 9515, 6984, 8347,\n",
       "       3967, 3820, 9674, 8759,  124, 9027, 2652, 1424, 3060, 1626, 2036,\n",
       "       5421, 9048, 8025, 8740, 5983, 4029, 6908, 4122, 5484, 8377, 8297,\n",
       "       6101,  954, 5130, 9506, 3259, 7894, 6168, 6810, 1169, 8004, 2625,\n",
       "       3702, 8277, 8770, 1921, 7780, 6671, 7446, 9686, 2519, 3236, 7185,\n",
       "        712, 2016, 7642, 5417, 9949, 7763, 3836,  649, 5884, 5025, 2213,\n",
       "       4711, 1992, 2153, 1556, 3285, 9434, 2310, 2981, 7142, 4400, 6033,\n",
       "       8513, 8191, 5287, 6805, 7881, 2837, 8610, 3257, 4039, 6180])"
      ]
     },
     "execution_count": 3,
     "metadata": {},
     "output_type": "execute_result"
    }
   ],
   "source": [
    "numbers = np.random.randint(0,10000,1000)\n",
    "numbers"
   ]
  },
  {
   "cell_type": "code",
   "execution_count": 4,
   "metadata": {
    "collapsed": true
   },
   "outputs": [
    {
     "data": {
      "text/plain": [
       "{'whiskers': [<matplotlib.lines.Line2D at 0x287d85e0b00>,\n",
       "  <matplotlib.lines.Line2D at 0x287d85e0e48>],\n",
       " 'caps': [<matplotlib.lines.Line2D at 0x287d85e0f28>,\n",
       "  <matplotlib.lines.Line2D at 0x287d85f9518>],\n",
       " 'boxes': [<matplotlib.lines.Line2D at 0x287d85e0710>],\n",
       " 'medians': [<matplotlib.lines.Line2D at 0x287d85f9860>],\n",
       " 'fliers': [<matplotlib.lines.Line2D at 0x287d85f9ba8>],\n",
       " 'means': []}"
      ]
     },
     "execution_count": 4,
     "metadata": {},
     "output_type": "execute_result"
    },
    {
     "data": {
      "image/png": "[encoded data removed]",
      "text/plain": [
       "<Figure size 432x288 with 1 Axes>"
      ]
     },
     "metadata": {
      "needs_background": "light"
     },
     "output_type": "display_data"
    }
   ],
   "source": [
    "plt.boxplot(numbers)"
   ]
  },
  {
   "cell_type": "markdown",
   "metadata": {},
   "source": [
    "### Notched Boxplot"
   ]
  },
  {
   "cell_type": "code",
   "execution_count": 5,
   "metadata": {
    "collapsed": true
   },
   "outputs": [
    {
     "data": {
      "text/plain": [
       "{'whiskers': [<matplotlib.lines.Line2D at 0x287d8689b00>,\n",
       "  <matplotlib.lines.Line2D at 0x287d8689eb8>],\n",
       " 'caps': [<matplotlib.lines.Line2D at 0x287d8689f98>,\n",
       "  <matplotlib.lines.Line2D at 0x287d8697588>],\n",
       " 'boxes': [<matplotlib.lines.Line2D at 0x287d8689748>],\n",
       " 'medians': [<matplotlib.lines.Line2D at 0x287d86978d0>],\n",
       " 'fliers': [<matplotlib.lines.Line2D at 0x287d8697c18>],\n",
       " 'means': []}"
      ]
     },
     "execution_count": 5,
     "metadata": {},
     "output_type": "execute_result"
    },
    {
     "data": {
      "image/png": "[encoded data removed]",
      "text/plain": [
       "<Figure size 432x288 with 1 Axes>"
      ]
     },
     "metadata": {
      "needs_background": "light"
     },
     "output_type": "display_data"
    }
   ],
   "source": [
    "plt.boxplot(numbers, notch = True)"
   ]
  },
  {
   "cell_type": "code",
   "execution_count": 6,
   "metadata": {
    "collapsed": true
   },
   "outputs": [
    {
     "name": "stdout",
     "output_type": "stream",
     "text": [
      "Help on function boxplot in module matplotlib.pyplot:\n",
      "\n",
      "boxplot(x, notch=None, sym=None, vert=None, whis=None, positions=None, widths=None, patch_artist=None, bootstrap=None, usermedians=None, conf_intervals=None, meanline=None, showmeans=None, showcaps=None, showbox=None, showfliers=None, boxprops=None, labels=None, flierprops=None, medianprops=None, meanprops=None, capprops=None, whiskerprops=None, manage_ticks=True, autorange=False, zorder=None, *, data=None)\n",
      "    Make a box and whisker plot.\n",
      "    \n",
      "    Make a box and whisker plot for each column of ``x`` or each\n",
      "    vector in sequence ``x``.  The box extends from the lower to\n",
      "    upper quartile values of the data, with a line at the median.\n",
      "    The whiskers extend from the box to show the range of the\n",
      "    data.  Flier points are those past the end of the whiskers.\n",
      "    \n",
      "    Parameters\n",
      "    ----------\n",
      "    x : Array or a sequence of vectors.\n",
      "        The input data.\n",
      "    \n",
      "    notch : bool, optional (False)\n",
      "        If `True`, will produce a notched box plot. Otherwise, a\n",
      "        rectangular boxplot is produced. The notches represent the\n",
      "        confidence interval (CI) around the median. See the entry\n",
      "        for the ``bootstrap`` parameter for information regarding\n",
      "        how the locations of the notches are computed.\n",
      "    \n",
      "        .. note::\n",
      "    \n",
      "            In cases where the values of the CI are less than the\n",
      "            lower quartile or greater than the upper quartile, the\n",
      "            notches will extend beyond the box, giving it a\n",
      "            distinctive \"flipped\" appearance. This is expected\n",
      "            behavior and consistent with other statistical\n",
      "            visualization packages.\n",
      "    \n",
      "    sym : str, optional\n",
      "        The default symbol for flier points. Enter an empty string\n",
      "        ('') if you don't want to show fliers. If `None`, then the\n",
      "        fliers default to 'b+'  If you want more control use the\n",
      "        flierprops kwarg.\n",
      "    \n",
      "    vert : bool, optional (True)\n",
      "        If `True` (default), makes the boxes vertical. If `False`,\n",
      "        everything is drawn horizontally.\n",
      "    \n",
      "    whis : float, sequence, or string (default = 1.5)\n",
      "        As a float, determines the reach of the whiskers to the beyond the\n",
      "        first and third quartiles. In other words, where IQR is the\n",
      "        interquartile range (`Q3-Q1`), the upper whisker will extend to\n",
      "        last datum less than `Q3 + whis*IQR`). Similarly, the lower whisker\n",
      "        will extend to the first datum greater than `Q1 - whis*IQR`.\n",
      "        Beyond the whiskers, data\n",
      "        are considered outliers and are plotted as individual\n",
      "        points. Set this to an unreasonably high value to force the\n",
      "        whiskers to show the min and max values. Alternatively, set\n",
      "        this to an ascending sequence of percentile (e.g., [5, 95])\n",
      "        to set the whiskers at specific percentiles of the data.\n",
      "        Finally, ``whis`` can be the string ``'range'`` to force the\n",
      "        whiskers to the min and max of the data.\n",
      "    \n",
      "    bootstrap : int, optional\n",
      "        Specifies whether to bootstrap the confidence intervals\n",
      "        around the median for notched boxplots. If ``bootstrap`` is\n",
      "        None, no bootstrapping is performed, and notches are\n",
      "        calculated using a Gaussian-based asymptotic approximation\n",
      "        (see McGill, R., Tukey, J.W., and Larsen, W.A., 1978, and\n",
      "        Kendall and Stuart, 1967). Otherwise, bootstrap specifies\n",
      "        the number of times to bootstrap the median to determine its\n",
      "        95% confidence intervals. Values between 1000 and 10000 are\n",
      "        recommended.\n",
      "    \n",
      "    usermedians : array-like, optional\n",
      "        An array or sequence whose first dimension (or length) is\n",
      "        compatible with ``x``. This overrides the medians computed\n",
      "        by matplotlib for each element of ``usermedians`` that is not\n",
      "        `None`. When an element of ``usermedians`` is None, the median\n",
      "        will be computed by matplotlib as normal.\n",
      "    \n",
      "    conf_intervals : array-like, optional\n",
      "        Array or sequence whose first dimension (or length) is\n",
      "        compatible with ``x`` and whose second dimension is 2. When\n",
      "        the an element of ``conf_intervals`` is not None, the\n",
      "        notch locations computed by matplotlib are overridden\n",
      "        (provided ``notch`` is `True`). When an element of\n",
      "        ``conf_intervals`` is `None`, the notches are computed by the\n",
      "        method specified by the other kwargs (e.g., ``bootstrap``).\n",
      "    \n",
      "    positions : array-like, optional\n",
      "        Sets the positions of the boxes. The ticks and limits are\n",
      "        automatically set to match the positions. Defaults to\n",
      "        `range(1, N+1)` where N is the number of boxes to be drawn.\n",
      "    \n",
      "    widths : scalar or array-like\n",
      "        Sets the width of each box either with a scalar or a\n",
      "        sequence. The default is 0.5, or ``0.15*(distance between\n",
      "        extreme positions)``, if that is smaller.\n",
      "    \n",
      "    patch_artist : bool, optional (False)\n",
      "        If `False` produces boxes with the Line2D artist. Otherwise,\n",
      "        boxes and drawn with Patch artists.\n",
      "    \n",
      "    labels : sequence, optional\n",
      "        Labels for each dataset. Length must be compatible with\n",
      "        dimensions of ``x``.\n",
      "    \n",
      "    manage_ticks : bool, optional (True)\n",
      "        If True, the tick locations and labels will be adjusted to match\n",
      "        the boxplot positions.\n",
      "    \n",
      "    autorange : bool, optional (False)\n",
      "        When `True` and the data are distributed such that the 25th and\n",
      "        75th percentiles are equal, ``whis`` is set to ``'range'`` such\n",
      "        that the whisker ends are at the minimum and maximum of the data.\n",
      "    \n",
      "    meanline : bool, optional (False)\n",
      "        If `True` (and ``showmeans`` is `True`), will try to render\n",
      "        the mean as a line spanning the full width of the box\n",
      "        according to ``meanprops`` (see below). Not recommended if\n",
      "        ``shownotches`` is also True. Otherwise, means will be shown\n",
      "        as points.\n",
      "    \n",
      "    zorder : scalar, optional (None)\n",
      "        Sets the zorder of the boxplot.\n",
      "    \n",
      "    Other Parameters\n",
      "    ----------------\n",
      "    showcaps : bool, optional (True)\n",
      "        Show the caps on the ends of whiskers.\n",
      "    showbox : bool, optional (True)\n",
      "        Show the central box.\n",
      "    showfliers : bool, optional (True)\n",
      "        Show the outliers beyond the caps.\n",
      "    showmeans : bool, optional (False)\n",
      "        Show the arithmetic means.\n",
      "    capprops : dict, optional (None)\n",
      "        Specifies the style of the caps.\n",
      "    boxprops : dict, optional (None)\n",
      "        Specifies the style of the box.\n",
      "    whiskerprops : dict, optional (None)\n",
      "        Specifies the style of the whiskers.\n",
      "    flierprops : dict, optional (None)\n",
      "        Specifies the style of the fliers.\n",
      "    medianprops : dict, optional (None)\n",
      "        Specifies the style of the median.\n",
      "    meanprops : dict, optional (None)\n",
      "        Specifies the style of the mean.\n",
      "    \n",
      "    Returns\n",
      "    -------\n",
      "    result : dict\n",
      "      A dictionary mapping each component of the boxplot to a list\n",
      "      of the :class:`matplotlib.lines.Line2D` instances\n",
      "      created. That dictionary has the following keys (assuming\n",
      "      vertical boxplots):\n",
      "    \n",
      "      - ``boxes``: the main body of the boxplot showing the\n",
      "        quartiles and the median's confidence intervals if\n",
      "        enabled.\n",
      "    \n",
      "      - ``medians``: horizontal lines at the median of each box.\n",
      "    \n",
      "      - ``whiskers``: the vertical lines extending to the most\n",
      "        extreme, non-outlier data points.\n",
      "    \n",
      "      - ``caps``: the horizontal lines at the ends of the\n",
      "        whiskers.\n",
      "    \n",
      "      - ``fliers``: points representing data that extend beyond\n",
      "        the whiskers (fliers).\n",
      "    \n",
      "      - ``means``: points or lines representing the means.\n",
      "    \n",
      "    Notes\n",
      "    -----\n",
      "    \n",
      "    \n",
      "    .. note::\n",
      "        In addition to the above described arguments, this function can take a\n",
      "        **data** keyword argument. If such a **data** argument is given, the\n",
      "        following arguments are replaced by **data[<arg>]**:\n",
      "    \n",
      "        * All positional and all keyword arguments.\n",
      "    \n",
      "        Objects passed as **data** must support item access (``data[<arg>]``) and\n",
      "        membership test (``<arg> in data``).\n",
      "\n"
     ]
    }
   ],
   "source": [
    "help(plt.boxplot)"
   ]
  },
  {
   "cell_type": "code",
   "execution_count": 7,
   "metadata": {},
   "outputs": [],
   "source": [
    "product1_sales = np.random.randint(0,5000,50)\n",
    "product2_sales = np.random.randint(0,7000,100)\n",
    "product3_sales = np.random.randint(1000,3500,500)"
   ]
  },
  {
   "cell_type": "code",
   "execution_count": 14,
   "metadata": {
    "collapsed": true
   },
   "outputs": [
    {
     "data": {
      "image/png": "[encoded data removed]",
      "text/plain": [
       "<Figure size 432x288 with 1 Axes>"
      ]
     },
     "metadata": {
      "needs_background": "light"
     },
     "output_type": "display_data"
    }
   ],
   "source": [
    "plt.boxplot([product1_sales,product2_sales,product3_sales],\n",
    "           labels = ['Maggi','Yeppi','Knoor'],\n",
    "           patch_artist = True, boxprops = dict(facecolor = 'pink',color = 'r'),\n",
    "           vert = False)\n",
    "plt.show()"
   ]
  },
  {
   "cell_type": "markdown",
   "metadata": {},
   "source": [
    "### 2. Histogram\n",
    "- Similar to Bar Charts\n",
    "- Frequency distribution of numerical data\n",
    "    - plt.hist()"
   ]
  },
  {
   "cell_type": "code",
   "execution_count": 16,
   "metadata": {
    "collapsed": true
   },
   "outputs": [
    {
     "data": {
      "text/plain": [
       "(array([4., 2., 3., 3.]),\n",
       " array([0. , 1.3, 2.6, 3.9, 5.2]),\n",
       " <a list of 4 Patch objects>)"
      ]
     },
     "execution_count": 16,
     "metadata": {},
     "output_type": "execute_result"
    },
    {
     "data": {
      "image/png": "[encoded data removed]",
      "text/plain": [
       "<Figure size 432x288 with 1 Axes>"
      ]
     },
     "metadata": {
      "needs_background": "light"
     },
     "output_type": "display_data"
    }
   ],
   "source": [
    "h = [0,0.5,0.5,0.6,1.5,1.6,3.6,3.7,3.8,5,5.1,5.2]\n",
    "bins = 4\n",
    "plt.hist(h,bins,rwidth = 0.4)"
   ]
  },
  {
   "cell_type": "code",
   "execution_count": 18,
   "metadata": {
    "collapsed": true
   },
   "outputs": [
    {
     "data": {
      "text/plain": [
       "(array([3., 0., 3., 3., 1.]),\n",
       " array([10, 11, 12, 13, 14, 15]),\n",
       " <a list of 5 Patch objects>)"
      ]
     },
     "execution_count": 18,
     "metadata": {},
     "output_type": "execute_result"
    },
    {
     "data": {
      "image/png": "[encoded data removed]",
      "text/plain": [
       "<Figure size 432x288 with 1 Axes>"
      ]
     },
     "metadata": {
      "needs_background": "light"
     },
     "output_type": "display_data"
    }
   ],
   "source": [
    "h2 = [10,10.2,10.5,12,12,12.3,13,13,13.5,15,15.1,15.5,15.6]\n",
    "bins2 = [10,11,12,13,14,15]\n",
    "plt.hist(h2,bins2,rwidth = 0.4)"
   ]
  },
  {
   "cell_type": "markdown",
   "metadata": {},
   "source": [
    "### 3.Pie Chart\n",
    "- plt.pie()"
   ]
  },
  {
   "cell_type": "code",
   "execution_count": 39,
   "metadata": {},
   "outputs": [
    {
     "data": {
      "image/png": "[encoded data removed]",
      "text/plain": [
       "<Figure size 432x288 with 1 Axes>"
      ]
     },
     "metadata": {},
     "output_type": "display_data"
    },
    {
     "data": {
      "text/plain": [
       "<Figure size 432x288 with 0 Axes>"
      ]
     },
     "metadata": {},
     "output_type": "display_data"
    }
   ],
   "source": [
    "games = ['Cricket','Chess','Ludo','football']\n",
    "score = [80,92,72,50]\n",
    "plt.pie(score, labels = games, autopct = '%1.2f%%',\n",
    "       colors = ['c','b','m','pink'], startangle = 90,\n",
    "       explode = (0,0.2,0,0), shadow = True)\n",
    "plt.show()\n",
    "plt.savefig('PieChart.png')"
   ]
  },
  {
   "cell_type": "code",
   "execution_count": 41,
   "metadata": {},
   "outputs": [
    {
     "data": {
      "image/png": "[encoded data removed]",
      "text/plain": [
       "<Figure size 432x288 with 1 Axes>"
      ]
     },
     "metadata": {},
     "output_type": "display_data"
    }
   ],
   "source": [
    "games = ['Cricket','Chess','Ludo','football']\n",
    "score = [80,92,72,50]\n",
    "plt.pie(score, labels = games, autopct = '%1.2f%%',colors = ['c','b','m','pink'], startangle = 90,explode = (0,0.2,0,0), shadow = True)\n",
    "plt.savefig('filename.png')"
   ]
  },
  {
   "cell_type": "markdown",
   "metadata": {},
   "source": [
    "### 4.Area Plot or Stack Plot\n",
    "- plt.stackplot()"
   ]
  },
  {
   "cell_type": "code",
   "execution_count": 35,
   "metadata": {},
   "outputs": [
    {
     "data": {
      "image/png": "[encoded data removed]",
      "text/plain": [
       "<Figure size 432x288 with 1 Axes>"
      ]
     },
     "metadata": {
      "needs_background": "light"
     },
     "output_type": "display_data"
    }
   ],
   "source": [
    "days = [1,2,3,4,5]\n",
    "age = [40,72,82,11,35]\n",
    "weight = [15,30,70,48,35]\n",
    "plt.stackplot(days,age,weight, colors = ['c','g'],labels = ['age','weight'])\n",
    "plt.legend()\n",
    "plt.show()"
   ]
  },
  {
   "cell_type": "code",
   "execution_count": 37,
   "metadata": {
    "collapsed": true
   },
   "outputs": [
    {
     "data": {
      "image/png": "[encoded data removed]",
      "text/plain": [
       "<Figure size 432x288 with 1 Axes>"
      ]
     },
     "metadata": {
      "needs_background": "light"
     },
     "output_type": "display_data"
    },
    {
     "data": {
      "text/plain": [
       "<Figure size 432x288 with 0 Axes>"
      ]
     },
     "metadata": {},
     "output_type": "display_data"
    }
   ],
   "source": [
    "days = [1,2,3,4,5]\n",
    "age = [40,72,82,11,35]\n",
    "weight = [15,30,70,48,35]\n",
    "plt.stackplot(days,age,weight, colors = ['c','g'],labels = ['age','weight'])\n",
    "plt.legend()\n",
    "plt.show()\n",
    "plt.savefig('AreaPlot.png')"
   ]
  },
  {
   "cell_type": "code",
   "execution_count": 38,
   "metadata": {
    "collapsed": true
   },
   "outputs": [
    {
     "name": "stdout",
     "output_type": "stream",
     "text": [
      "['Annotation', 'Arrow', 'Artist', 'AutoLocator', 'Axes', 'Button', 'Circle', 'Figure', 'FigureCanvasBase', 'FixedFormatter', 'FixedLocator', 'FormatStrFormatter', 'Formatter', 'FuncFormatter', 'GridSpec', 'IndexLocator', 'Line2D', 'LinearLocator', 'Locator', 'LogFormatter', 'LogFormatterExponent', 'LogFormatterMathtext', 'LogLocator', 'MaxNLocator', 'MultipleLocator', 'Normalize', 'NullFormatter', 'NullLocator', 'Number', 'PolarAxes', 'Polygon', 'Rectangle', 'ScalarFormatter', 'Slider', 'Subplot', 'SubplotTool', 'Text', 'TickHelper', 'Widget', '_INSTALL_FIG_OBSERVER', '_IP_REGISTERED', '__builtins__', '__cached__', '__doc__', '__file__', '__loader__', '__name__', '__package__', '__spec__', '_auto_draw_if_interactive', '_backend_mod', '_get_running_interactive_framework', '_interactive_bk', '_log', '_pylab_helpers', '_setp', '_setup_pyplot_info_docstrings', '_show', 'acorr', 'angle_spectrum', 'annotate', 'arrow', 'autoscale', 'autumn', 'axes', 'axhline', 'axhspan', 'axis', 'axvline', 'axvspan', 'bar', 'barbs', 'barh', 'bone', 'box', 'boxplot', 'broken_barh', 'cbook', 'cla', 'clabel', 'clf', 'clim', 'close', 'cm', 'cohere', 'colorbar', 'colormaps', 'connect', 'contour', 'contourf', 'cool', 'copper', 'csd', 'cycler', 'dedent', 'delaxes', 'deprecated', 'disconnect', 'docstring', 'draw', 'draw_all', 'draw_if_interactive', 'errorbar', 'eventplot', 'figaspect', 'figimage', 'figlegend', 'fignum_exists', 'figtext', 'figure', 'fill', 'fill_between', 'fill_betweenx', 'findobj', 'flag', 'functools', 'gca', 'gcf', 'gci', 'get', 'get_backend', 'get_cmap', 'get_current_fig_manager', 'get_figlabels', 'get_fignums', 'get_plot_commands', 'get_scale_docs', 'get_scale_names', 'getp', 'ginput', 'gray', 'grid', 'hexbin', 'hist', 'hist2d', 'hlines', 'hot', 'hsv', 'importlib', 'imread', 'imsave', 'imshow', 'inferno', 'inspect', 'install_repl_displayhook', 'interactive', 'ioff', 'ion', 'isinteractive', 'jet', 'legend', 'locator_params', 'logging', 'loglog', 'magma', 'magnitude_spectrum', 'margins', 'matplotlib', 'matshow', 'minorticks_off', 'minorticks_on', 'mlab', 'new_figure_manager', 'nipy_spectral', 'np', 'pause', 'pcolor', 'pcolormesh', 'phase_spectrum', 'pie', 'pink', 'plasma', 'plot', 'plot_date', 'plotfile', 'plotting', 'polar', 'prism', 'psd', 'pylab_setup', 'quiver', 'quiverkey', 'rc', 'rcParams', 'rcParamsDefault', 'rcParamsOrig', 'rc_context', 'rcdefaults', 'rcsetup', 're', 'register_cmap', 'rgrids', 'savefig', 'sca', 'scatter', 'sci', 'semilogx', 'semilogy', 'set_cmap', 'set_loglevel', 'setp', 'show', 'silent_list', 'specgram', 'spring', 'spy', 'stackplot', 'stem', 'step', 'streamplot', 'style', 'subplot', 'subplot2grid', 'subplot_tool', 'subplots', 'subplots_adjust', 'summer', 'suptitle', 'switch_backend', 'sys', 'table', 'text', 'thetagrids', 'tick_params', 'ticklabel_format', 'tight_layout', 'time', 'title', 'tricontour', 'tricontourf', 'tripcolor', 'triplot', 'twinx', 'twiny', 'uninstall_repl_displayhook', 'violinplot', 'viridis', 'vlines', 'waitforbuttonpress', 'warn_deprecated', 'winter', 'xcorr', 'xkcd', 'xlabel', 'xlim', 'xscale', 'xticks', 'ylabel', 'ylim', 'yscale', 'yticks']\n"
     ]
    }
   ],
   "source": [
    "print(dir(plt))"
   ]
  },
  {
   "cell_type": "markdown",
   "metadata": {},
   "source": []
  },
  {
   "cell_type": "code",
   "execution_count": null,
   "metadata": {},
   "outputs": [],
   "source": []
  }
 ],
 "metadata": {
  "kernelspec": {
   "display_name": "Python 3",
   "language": "python",
   "name": "python3"
  },
  "language_info": {
   "codemirror_mode": {
    "name": "ipython",
    "version": 3
   },
   "file_extension": ".py",
   "mimetype": "text/x-python",
   "name": "python",
   "nbconvert_exporter": "python",
   "pygments_lexer": "ipython3",
   "version": "3.7.3"
  }
 },
 "nbformat": 4,
 "nbformat_minor": 2
}
